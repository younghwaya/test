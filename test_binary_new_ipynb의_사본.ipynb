{
  "nbformat": 4,
  "nbformat_minor": 0,
  "metadata": {
    "interpreter": {
      "hash": "c7a597242a9fcae07eda00f8713b05f261905661d230c9d4db1373537f759943"
    },
    "kernelspec": {
      "display_name": "Python 3.8.11 64-bit ('python38': conda)",
      "name": "python3"
    },
    "language_info": {
      "codemirror_mode": {
        "name": "ipython",
        "version": 3
      },
      "file_extension": ".py",
      "mimetype": "text/x-python",
      "name": "python",
      "nbconvert_exporter": "python",
      "pygments_lexer": "ipython3",
      "version": "3.8.11"
    },
    "orig_nbformat": 4,
    "colab": {
      "name": "test_binary_new.ipynb의 사본",
      "provenance": [],
      "include_colab_link": true
    }
  },
  "cells": [
    {
      "cell_type": "markdown",
      "metadata": {
        "id": "view-in-github",
        "colab_type": "text"
      },
      "source": [
        "<a href=\"https://colab.research.google.com/github/younghwaya/test/blob/master/test_binary_new_ipynb%EC%9D%98_%EC%82%AC%EB%B3%B8.ipynb\" target=\"_parent\"><img src=\"https://colab.research.google.com/assets/colab-badge.svg\" alt=\"Open In Colab\"/></a>"
      ]
    },
    {
      "cell_type": "code",
      "metadata": {
        "id": "xCEXy5IH07RR"
      },
      "source": [
        "import numpy as np\n",
        "import tensorflow as tf\n",
        "from tensorflow.keras.utils import to_categorical\n",
        "from sklearn import metrics\n",
        "\n",
        "SR = 16000"
      ],
      "execution_count": null,
      "outputs": []
    },
    {
      "cell_type": "code",
      "metadata": {
        "id": "uH_ZMeJv07RU"
      },
      "source": [
        "import os\n",
        "import math\n",
        "import random\n",
        "\n",
        "def train_test_split(Normal_parent_dir, Fault1_parent_dir, Fault2_parent_dir, Fault7_parent_dir, Train_Test_ratio=0.1):\n",
        "    Normal_sub_dir_list = os.listdir(Normal_parent_dir)\n",
        "    Fault1_sub_dir_list = os.listdir(Fault1_parent_dir)\n",
        "    Fault2_sub_dir_list = os.listdir(Fault2_parent_dir)\n",
        "    Fault7_sub_dir_list = os.listdir(Fault7_parent_dir)\n",
        "\n",
        "    random.shuffle(Normal_sub_dir_list)\n",
        "    random.shuffle(Fault1_sub_dir_list)\n",
        "    random.shuffle(Fault2_sub_dir_list)\n",
        "    random.shuffle(Fault7_sub_dir_list)\n",
        "\n",
        "    Normal_sub_dir_num = len(Normal_sub_dir_list)\n",
        "    Fault1_sub_dir_num = len(Fault1_sub_dir_list)\n",
        "    Fault2_sub_dir_num = len(Fault2_sub_dir_list)\n",
        "    Fault7_sub_dir_num = len(Fault7_sub_dir_list)\n",
        "\n",
        "    Normal_test_split_num = math.floor(Train_Test_ratio * Normal_sub_dir_num)\n",
        "    Fault1_test_split_num = math.floor(Train_Test_ratio * Fault1_sub_dir_num)\n",
        "    Fault2_test_split_num = math.floor(Train_Test_ratio * Fault2_sub_dir_num)\n",
        "    Fault7_test_split_num = math.floor(Train_Test_ratio * Fault7_sub_dir_num)\n",
        "\n",
        "    if Normal_test_split_num < 1:\n",
        "      Normal_test_split_num = 1\n",
        "    if Fault1_test_split_num < 1:\n",
        "      Fault1_test_split_num = 1\n",
        "    if Fault2_test_split_num < 1:\n",
        "      Fault2_test_split_num = 1\n",
        "    if Fault7_test_split_num < 1:\n",
        "      Fault7_test_split_num = 1\n",
        "\n",
        "    # Normal_test_dir_list = Normal_sub_dir_list[:Normal_test_split_num]\n",
        "    # Normal_train_dir_list = Normal_sub_dir_list[Normal_test_split_num:]\n",
        "    Normal_test_dir_list = Normal_sub_dir_list[:3]\n",
        "    Normal_train_dir_list = Normal_sub_dir_list[3:]\n",
        "    Fault1_test_dir_list = Fault1_sub_dir_list[:Fault1_test_split_num]\n",
        "    Fault1_train_dir_list = Fault1_sub_dir_list[Fault1_test_split_num:]\n",
        "    Fault2_test_dir_list = Fault2_sub_dir_list[:Fault2_test_split_num]\n",
        "    Fault2_train_dir_list = Fault2_sub_dir_list[Fault2_test_split_num:]\n",
        "    Fault7_test_dir_list = Fault7_sub_dir_list[:Fault7_test_split_num]\n",
        "    Fault7_train_dir_list = Fault7_sub_dir_list[Fault7_test_split_num:]\n",
        "\n",
        "    print(Normal_train_dir_list, Normal_test_dir_list)\n",
        "    print(Fault1_train_dir_list, Fault1_test_dir_list)\n",
        "    print(Fault2_train_dir_list, Fault2_test_dir_list)\n",
        "    print(Fault7_train_dir_list, Fault7_test_dir_list)\n",
        "\n",
        "    return Normal_train_dir_list, Normal_test_dir_list, Fault1_train_dir_list, Fault1_test_dir_list, Fault2_train_dir_list, Fault2_test_dir_list, Fault7_train_dir_list, Fault7_test_dir_list"
      ],
      "execution_count": null,
      "outputs": []
    },
    {
      "cell_type": "code",
      "metadata": {
        "id": "p_m48gWs07RV"
      },
      "source": [
        "import glob\n",
        "import librosa\n",
        "from tqdm import tqdm\n",
        "\n",
        "def dataset_read(parent_dir, sub_dirs, file_ext=\"*wav\", SR=16000):\n",
        "    audio_array = []\n",
        "    for folder in tqdm(sub_dirs):\n",
        "        audio = []\n",
        "        for fn in glob.glob(os.path.join(parent_dir, folder, file_ext)):\n",
        "            y = librosa.load(fn, sr=SR)[0]\n",
        "            y = y[0:SR*7]\n",
        "            audio.append(y)\n",
        "        # audio_cqt = cqt(audio)\n",
        "        # audio_array.append(audio_cqt)\n",
        "        audio_array.append(audio)\n",
        "    return audio_array"
      ],
      "execution_count": null,
      "outputs": []
    },
    {
      "cell_type": "code",
      "metadata": {
        "id": "Hxs3IHPW07RW"
      },
      "source": [
        "def train_test_dataset(Normal_parent_dir, Fault1_parent_dir, Fault2_parent_dir, Fault7_parent_dir, Train_Test_ratio=0.1, SR=16000):\n",
        "    Normal_train_dir_list, Normal_test_dir_list, Fault1_train_dir_list, Fault1_test_dir_list, Fault2_train_dir_list, Fault2_test_dir_list, Fault7_train_dir_list, Fault7_test_dir_list = train_test_split(Normal_parent_dir, Fault1_parent_dir, Fault2_parent_dir, Fault7_parent_dir, Train_Test_ratio)\n",
        "    Normal_train_data = dataset_read(Normal_parent_dir, Normal_train_dir_list, SR=SR)\n",
        "    Normal_test_data = dataset_read(Normal_parent_dir, Normal_test_dir_list, SR=SR)\n",
        "    Fault1_train_data = dataset_read(Fault1_parent_dir, Fault1_train_dir_list, SR=SR)\n",
        "    Fault1_test_data = dataset_read(Fault1_parent_dir, Fault1_test_dir_list, SR=SR)\n",
        "    Fault2_train_data = dataset_read(Fault2_parent_dir, Fault2_train_dir_list, SR=SR)\n",
        "    Fault2_test_data = dataset_read(Fault2_parent_dir, Fault2_test_dir_list, SR=SR)\n",
        "    Fault7_train_data = dataset_read(Fault7_parent_dir, Fault7_train_dir_list, SR=SR)\n",
        "    Fault7_test_data = dataset_read(Fault7_parent_dir, Fault7_test_dir_list, SR=SR)\n",
        "\n",
        "    return Normal_train_data, Normal_test_data, Fault1_train_data, Fault1_test_data, Fault2_train_data, Fault2_test_data, Fault7_train_data, Fault7_test_data"
      ],
      "execution_count": null,
      "outputs": []
    },
    {
      "cell_type": "code",
      "metadata": {
        "id": "oMw_40my07RW"
      },
      "source": [
        "Normal_parent_dir = 'Data/Normal'\n",
        "Fault1_parent_dir = 'Data/Fault1'\n",
        "Fault2_parent_dir = 'Data/Fault2'\n",
        "Fault7_parent_dir = 'Data/Fault7'"
      ],
      "execution_count": null,
      "outputs": []
    },
    {
      "cell_type": "code",
      "metadata": {
        "id": "xK-CVPre07RW",
        "outputId": "49540c06-0a8c-4a44-df57-259b36335f52"
      },
      "source": [
        "Normal_train_dataset, Normal_test_dataset, Fault1_train_dataset, Fault1_test_dataset, Fault2_train_dataset, Fault2_test_dataset, Fault7_train_dataset, Fault7_test_dataset = train_test_dataset(Normal_parent_dir, Fault1_parent_dir, Fault2_parent_dir, Fault7_parent_dir, Train_Test_ratio=0.1, SR=16000)\n",
        "print(np.array(Normal_train_dataset).shape, np.array(Normal_test_dataset).shape)\n",
        "print(np.array(Fault1_train_dataset).shape, np.array(Fault1_test_dataset).shape)\n",
        "print(np.array(Fault2_train_dataset).shape, np.array(Fault2_test_dataset).shape)\n",
        "print(np.array(Fault7_train_dataset).shape, np.array(Fault7_test_dataset).shape)"
      ],
      "execution_count": null,
      "outputs": [
        {
          "name": "stdout",
          "output_type": "stream",
          "text": [
            "['087', '2-013', '2-021', '099', '2-009', '096', '2-023', '091', '2-016', '2-014', '097', '098', '2-015', '2-025', '2-024', '2-006', '2-020', '2-018', '2-003', '2-004', '089', '2-011', '2-027', '088', '2-002', '094', '086', '2-001', '085', '084', '081', '092', '2-028', '083', '2-007', '2-017', '2-026', '2-030', '2-012', '2-022'] ['093', '2-005', '2-008']\n",
            "['3-013', '3-002', '028', '3-012', '038', '036', '3-003', '037', '3-005', '032', '014', '067', '3-004', '001'] ['040']\n",
            "['066', '3-007', '074', '047', '039', '070', '015', '3-006', '049', '3-008', '042', '016'] ['3-009']\n",
            "['002', '017', '022', '011', '004', '033', '058', '059', '061', '064'] ['045']\n"
          ]
        },
        {
          "name": "stderr",
          "output_type": "stream",
          "text": [
            "100%|██████████| 40/40 [06:16<00:00,  9.40s/it]\n",
            "100%|██████████| 3/3 [00:27<00:00,  9.32s/it]\n",
            "100%|██████████| 14/14 [02:09<00:00,  9.26s/it]\n",
            "100%|██████████| 1/1 [00:09<00:00,  9.46s/it]\n",
            "100%|██████████| 12/12 [01:51<00:00,  9.29s/it]\n",
            "100%|██████████| 1/1 [00:09<00:00,  9.30s/it]\n",
            "100%|██████████| 10/10 [01:34<00:00,  9.49s/it]\n",
            "100%|██████████| 1/1 [00:09<00:00,  9.40s/it]\n"
          ]
        },
        {
          "name": "stdout",
          "output_type": "stream",
          "text": [
            "(40, 50, 112000) (3, 50, 112000)\n",
            "(14, 50, 112000) (1, 50, 112000)\n",
            "(12, 50, 112000) (1, 50, 112000)\n",
            "(10, 50, 112000) (1, 50, 112000)\n"
          ]
        }
      ]
    },
    {
      "cell_type": "code",
      "metadata": {
        "id": "jXm1igpB07RX"
      },
      "source": [
        "def extend_data(append_data):\n",
        "    dataset = []\n",
        "\n",
        "    for data in append_data:\n",
        "        dataset.extend(data)\n",
        "    \n",
        "    return dataset"
      ],
      "execution_count": null,
      "outputs": []
    },
    {
      "cell_type": "code",
      "metadata": {
        "id": "j8yEAYMC07RX",
        "outputId": "202d50d8-fd0a-416e-874b-4b70bb0b56c2"
      },
      "source": [
        "Normal_train_dataset = extend_data(Normal_train_dataset)\n",
        "Normal_train_dataset = np.array(Normal_train_dataset)\n",
        "Normal_test_dataset = extend_data(Normal_test_dataset)\n",
        "Normal_test_dataset = np.array(Normal_test_dataset)\n",
        "Fault1_train_dataset = extend_data(Fault1_train_dataset)\n",
        "Fault1_train_dataset = np.array(Fault1_train_dataset)\n",
        "Fault1_test_dataset = extend_data(Fault1_test_dataset)\n",
        "Fault1_test_dataset = np.array(Fault1_test_dataset)\n",
        "Fault2_train_dataset = extend_data(Fault2_train_dataset)\n",
        "Fault2_train_dataset = np.array(Fault2_train_dataset)\n",
        "Fault2_test_dataset = extend_data(Fault2_test_dataset)\n",
        "Fault2_test_dataset = np.array(Fault2_test_dataset)\n",
        "Fault7_train_dataset = extend_data(Fault7_train_dataset)\n",
        "Fault7_train_dataset = np.array(Fault7_train_dataset)\n",
        "Fault7_test_dataset = extend_data(Fault7_test_dataset)\n",
        "Fault7_test_dataset = np.array(Fault7_test_dataset)\n",
        "\n",
        "train_label_0 = np.full(shape=(len(Normal_train_dataset),), fill_value=0, dtype=np.int16)\n",
        "train_label_1 = np.full(shape=(len(Fault1_train_dataset),), fill_value=1, dtype=np.int16)\n",
        "train_label_2 = np.full(shape=(len(Fault2_train_dataset),), fill_value=1, dtype=np.int16)\n",
        "train_label_7 = np.full(shape=(len(Fault7_train_dataset),), fill_value=1, dtype=np.int16)\n",
        "\n",
        "test_label_0 = np.full(shape=(len(Normal_test_dataset),), fill_value=0, dtype=np.int16)\n",
        "test_label_1 = np.full(shape=(len(Fault1_test_dataset),), fill_value=1, dtype=np.int16)\n",
        "test_label_2 = np.full(shape=(len(Fault2_test_dataset),), fill_value=1, dtype=np.int16)\n",
        "test_label_7 = np.full(shape=(len(Fault7_test_dataset),), fill_value=1, dtype=np.int16)\n",
        "\n",
        "print(Normal_train_dataset.shape, Normal_test_dataset.shape)\n",
        "print(Fault1_train_dataset.shape, Fault1_test_dataset.shape)\n",
        "print(Fault2_train_dataset.shape, Fault2_test_dataset.shape)\n",
        "print(Fault7_train_dataset.shape, Fault7_test_dataset.shape)"
      ],
      "execution_count": null,
      "outputs": [
        {
          "name": "stdout",
          "output_type": "stream",
          "text": [
            "(2000, 112000) (150, 112000)\n",
            "(700, 112000) (50, 112000)\n",
            "(600, 112000) (50, 112000)\n",
            "(500, 112000) (50, 112000)\n"
          ]
        }
      ]
    },
    {
      "cell_type": "code",
      "metadata": {
        "id": "2HEn6ITd07RY",
        "outputId": "29a1c233-8f4c-4040-e18c-d28e7599db70"
      },
      "source": [
        "train_data = np.concatenate((Normal_train_dataset, Fault1_train_dataset, Fault2_train_dataset, Fault7_train_dataset))\n",
        "test_data = np.concatenate((Normal_test_dataset, Fault1_test_dataset, Fault2_test_dataset, Fault7_test_dataset))\n",
        "\n",
        "train_label = np.concatenate((train_label_0, train_label_1, train_label_2, train_label_7))\n",
        "test_label = np.concatenate((test_label_0, test_label_1, test_label_2, test_label_7))\n",
        "\n",
        "print(train_data.shape, test_data.shape)\n",
        "print(train_label.shape, test_label.shape)"
      ],
      "execution_count": null,
      "outputs": [
        {
          "name": "stdout",
          "output_type": "stream",
          "text": [
            "(3800, 112000) (300, 112000)\n",
            "(3800,) (300,)\n"
          ]
        }
      ]
    },
    {
      "cell_type": "code",
      "metadata": {
        "id": "ROpmBO0D07RY"
      },
      "source": [
        "from tensorflow.keras.layers import Conv2D, MaxPool2D, Flatten, Input, Dense, BatchNormalization, Dropout\n",
        "from tensorflow.keras.models import Sequential, Model\n",
        "from tensorflow.keras import optimizers, losses\n",
        "\n",
        "sgd = optimizers.SGD(learning_rate=0.01, momentum=0.9, nesterov=True, decay=1e-6)\n",
        "\n",
        "def model_build(height, width, channel, Total_Class_Num=4):\n",
        "  model = Sequential()\n",
        "\n",
        "  input = Input(shape=(height, width, channel))\n",
        "\n",
        "  output = Conv2D(32, 3, strides=1, padding='same', activation='relu')(input)\n",
        "  output = BatchNormalization()(output)\n",
        "  output = Conv2D(32, 3, strides=1, padding='same', activation='relu')(output)\n",
        "  output = BatchNormalization()(output)\n",
        "  output = MaxPool2D(pool_size=(2,2), strides=2, padding='same')(output)\n",
        "\n",
        "  output = Conv2D(64, 3, strides=1, padding='same', activation='relu')(output)\n",
        "  output = BatchNormalization()(output)\n",
        "  output = Conv2D(64, 3, strides=1, padding='same', activation='relu')(output)\n",
        "  output = BatchNormalization()(output)\n",
        "  output = MaxPool2D(pool_size=(2,2), strides=2, padding='same')(output)\n",
        "\n",
        "  output = Conv2D(128, 3, strides=1, padding='same', activation='relu')(output)\n",
        "  output = BatchNormalization()(output)\n",
        "  output = Conv2D(128, 3, strides=1, padding='same', activation='relu')(output)\n",
        "  output = BatchNormalization()(output)\n",
        "  output = MaxPool2D(pool_size=(2,2), strides=2, padding='same')(output)\n",
        "\n",
        "  output = Conv2D(256, 3, strides=1, padding='same', activation='relu')(output)\n",
        "  output = BatchNormalization()(output)\n",
        "  output = MaxPool2D(pool_size=(2,2), strides=2, padding='same')(output)\n",
        "\n",
        "  output = Flatten()(output)\n",
        "\n",
        "  output = Dense(1024, activation='relu')(output)\n",
        "  output = BatchNormalization()(output)\n",
        "  output = Dense(128, activation='relu')(output)\n",
        "  output = BatchNormalization()(output)\n",
        "  if Total_Class_Num==4:\n",
        "        output = Dense(Total_Class_Num, activation='softmax')(output)\n",
        "        loss_func = losses.CategoricalCrossentropy()\n",
        "  if Total_Class_Num==3:\n",
        "        output = Dense(Total_Class_Num, activation='softmax')(output)\n",
        "        loss_func = losses.CategoricalCrossentropy()\n",
        "  elif Total_Class_Num==2:\n",
        "        output = Dense(Total_Class_Num, activation='sigmoid')(output)\n",
        "        loss_func = losses.BinaryCrossentropy()\n",
        "\n",
        "  model = Model(inputs=[input], outputs=output)\n",
        "  model.compile(optimizer='adam',\n",
        "                loss=loss_func,\n",
        "                metrics=['acc'])\n",
        "\n",
        "  return model"
      ],
      "execution_count": null,
      "outputs": []
    },
    {
      "cell_type": "code",
      "metadata": {
        "id": "hj4e67Fx07RZ"
      },
      "source": [
        "import matplotlib.pyplot as plt\n",
        "\n",
        "def plot_loss_graph(history):\n",
        "    y_loss = history.history['loss']\n",
        "    y_vloss = history.history['val_loss']\n",
        "\n",
        "    loss_len = np.arange(len(y_loss))\n",
        "\n",
        "    plt.plot(loss_len, y_loss, marker='.', c='blue', label=\"Train-set Loss\")\n",
        "    plt.plot(loss_len, y_vloss, marker='.', c='red', label=\"Validation-set Loss\")\n",
        "    \n",
        "    plt.xlabel('epoch')\n",
        "    plt.ylabel('loss')\n",
        "    plt.legend(loc='best')\n",
        "    plt.grid()\n",
        "    plt.show()"
      ],
      "execution_count": null,
      "outputs": []
    },
    {
      "cell_type": "code",
      "metadata": {
        "id": "f71WAYcZ07RZ"
      },
      "source": [
        "def plot_acc_graph(history):\n",
        "    y_acc = history.history['acc']\n",
        "    y_vacc = history.history['val_acc']\n",
        "\n",
        "    acc_len = np.arange(len(y_acc))\n",
        "\n",
        "    plt.plot(acc_len, y_acc, marker='.', c='blue', label=\"Train-set Accuracy\")\n",
        "    plt.plot(acc_len, y_vacc, marker='.', c='red', label=\"Validation-set Accuracy\")\n",
        "    \n",
        "    plt.xlabel('epoch')\n",
        "    plt.ylabel('accuracy')\n",
        "    plt.legend(loc='best')\n",
        "    plt.grid()\n",
        "    plt.show()"
      ],
      "execution_count": null,
      "outputs": []
    },
    {
      "cell_type": "code",
      "metadata": {
        "id": "X8_Xnqmq07RZ"
      },
      "source": [
        "def cqt(data, sr=16000):\n",
        "    audio_cqt = []\n",
        "\n",
        "    for y in tqdm(data):\n",
        "        ret = librosa.cqt(y, sr, hop_length=1024, n_bins=24*7, bins_per_octave=24)\n",
        "        ret = np.abs(ret)\n",
        "        ret = librosa.power_to_db(ret, ref=np.max)\n",
        "        audio_cqt.append(ret)\n",
        "\n",
        "    cqt_np = np.array(audio_cqt, np.float32)\n",
        "    cqt_array = np.expand_dims(cqt_np, -1)\n",
        "\n",
        "    return cqt_array"
      ],
      "execution_count": null,
      "outputs": []
    },
    {
      "cell_type": "code",
      "metadata": {
        "id": "eY23yTC307RZ",
        "outputId": "3f8e696d-f430-408e-eea3-ff0d0d579357"
      },
      "source": [
        "train_data_cqt = cqt(train_data)\n",
        "test_data_cqt = cqt(test_data)\n",
        "\n",
        "print(train_data_cqt.shape, test_data_cqt.shape)"
      ],
      "execution_count": null,
      "outputs": [
        {
          "name": "stderr",
          "output_type": "stream",
          "text": [
            "100%|██████████| 3800/3800 [05:20<00:00, 11.87it/s]\n",
            "100%|██████████| 300/300 [00:24<00:00, 12.24it/s]"
          ]
        },
        {
          "name": "stdout",
          "output_type": "stream",
          "text": [
            "(3800, 168, 110, 1) (300, 168, 110, 1)\n"
          ]
        },
        {
          "name": "stderr",
          "output_type": "stream",
          "text": [
            "\n"
          ]
        }
      ]
    },
    {
      "cell_type": "code",
      "metadata": {
        "id": "tiJdtY7G07Ra"
      },
      "source": [
        "from sklearn.model_selection import train_test_split\n",
        "\n",
        "train_data_cqt_train, train_data_cqt_val, train_label_cqt_train, train_label_cqt_val = train_test_split(train_data_cqt, train_label, shuffle=True, test_size=0.1)"
      ],
      "execution_count": null,
      "outputs": []
    },
    {
      "cell_type": "code",
      "metadata": {
        "id": "pMDZwd1i07Ra"
      },
      "source": [
        "train_cqt_inst_cat = to_categorical(train_label_cqt_train)\n",
        "\n",
        "val_cqt_inst_cat = to_categorical(train_label_cqt_val)\n",
        "\n",
        "test_inst_cat = to_categorical(test_label)\n",
        "\n",
        "_, h_cqt, w_cqt, c_cqt = train_data_cqt_train.shape"
      ],
      "execution_count": null,
      "outputs": []
    },
    {
      "cell_type": "code",
      "metadata": {
        "id": "NXwhLUHI07Ra"
      },
      "source": [
        "es = tf.keras.callbacks.EarlyStopping(monitor='val_loss', restore_best_weights=True, patience=20)\n",
        "cqt_checkpoint = tf.keras.callbacks.ModelCheckpoint(filepath='multi_cqt_model.h5', monitor='val_loss', save_best_only=True)\n",
        "mfcc_checkpoint = tf.keras.callbacks.ModelCheckpoint(filepath='multi_mfcc_model.h5', monitor='val_loss', save_best_only=True)\n",
        "melspec_checkpoint = tf.keras.callbacks.ModelCheckpoint(filepath='multi_melspec_model.h5', monitor='val_loss', save_best_only=True)"
      ],
      "execution_count": null,
      "outputs": []
    },
    {
      "cell_type": "code",
      "metadata": {
        "id": "xEhb6Nuh07Ra",
        "outputId": "07e4cabd-ac7a-412b-b673-57612bab7606"
      },
      "source": [
        "model_cqt = model_build(h_cqt, w_cqt, c_cqt, Total_Class_Num=2)\n",
        "model_cqt.summary()"
      ],
      "execution_count": null,
      "outputs": [
        {
          "name": "stdout",
          "output_type": "stream",
          "text": [
            "Model: \"model\"\n",
            "_________________________________________________________________\n",
            "Layer (type)                 Output Shape              Param #   \n",
            "=================================================================\n",
            "input_1 (InputLayer)         [(None, 168, 110, 1)]     0         \n",
            "_________________________________________________________________\n",
            "conv2d (Conv2D)              (None, 168, 110, 32)      320       \n",
            "_________________________________________________________________\n",
            "batch_normalization (BatchNo (None, 168, 110, 32)      128       \n",
            "_________________________________________________________________\n",
            "conv2d_1 (Conv2D)            (None, 168, 110, 32)      9248      \n",
            "_________________________________________________________________\n",
            "batch_normalization_1 (Batch (None, 168, 110, 32)      128       \n",
            "_________________________________________________________________\n",
            "max_pooling2d (MaxPooling2D) (None, 84, 55, 32)        0         \n",
            "_________________________________________________________________\n",
            "conv2d_2 (Conv2D)            (None, 84, 55, 64)        18496     \n",
            "_________________________________________________________________\n",
            "batch_normalization_2 (Batch (None, 84, 55, 64)        256       \n",
            "_________________________________________________________________\n",
            "conv2d_3 (Conv2D)            (None, 84, 55, 64)        36928     \n",
            "_________________________________________________________________\n",
            "batch_normalization_3 (Batch (None, 84, 55, 64)        256       \n",
            "_________________________________________________________________\n",
            "max_pooling2d_1 (MaxPooling2 (None, 42, 28, 64)        0         \n",
            "_________________________________________________________________\n",
            "conv2d_4 (Conv2D)            (None, 42, 28, 128)       73856     \n",
            "_________________________________________________________________\n",
            "batch_normalization_4 (Batch (None, 42, 28, 128)       512       \n",
            "_________________________________________________________________\n",
            "conv2d_5 (Conv2D)            (None, 42, 28, 128)       147584    \n",
            "_________________________________________________________________\n",
            "batch_normalization_5 (Batch (None, 42, 28, 128)       512       \n",
            "_________________________________________________________________\n",
            "max_pooling2d_2 (MaxPooling2 (None, 21, 14, 128)       0         \n",
            "_________________________________________________________________\n",
            "conv2d_6 (Conv2D)            (None, 21, 14, 256)       295168    \n",
            "_________________________________________________________________\n",
            "batch_normalization_6 (Batch (None, 21, 14, 256)       1024      \n",
            "_________________________________________________________________\n",
            "max_pooling2d_3 (MaxPooling2 (None, 11, 7, 256)        0         \n",
            "_________________________________________________________________\n",
            "flatten (Flatten)            (None, 19712)             0         \n",
            "_________________________________________________________________\n",
            "dense (Dense)                (None, 1024)              20186112  \n",
            "_________________________________________________________________\n",
            "batch_normalization_7 (Batch (None, 1024)              4096      \n",
            "_________________________________________________________________\n",
            "dense_1 (Dense)              (None, 128)               131200    \n",
            "_________________________________________________________________\n",
            "batch_normalization_8 (Batch (None, 128)               512       \n",
            "_________________________________________________________________\n",
            "dense_2 (Dense)              (None, 2)                 258       \n",
            "=================================================================\n",
            "Total params: 20,906,594\n",
            "Trainable params: 20,902,882\n",
            "Non-trainable params: 3,712\n",
            "_________________________________________________________________\n"
          ]
        }
      ]
    },
    {
      "cell_type": "code",
      "metadata": {
        "id": "sSb-ccz607Ra",
        "outputId": "26e66c14-fe3d-45f2-e1ca-ea08fad35fa5"
      },
      "source": [
        "cqt_history = model_cqt.fit(train_data_cqt_train, train_cqt_inst_cat, epochs=300, batch_size=256, callbacks=[es, cqt_checkpoint], validation_data=(train_data_cqt_val, val_cqt_inst_cat))"
      ],
      "execution_count": null,
      "outputs": [
        {
          "name": "stdout",
          "output_type": "stream",
          "text": [
            "Epoch 1/300\n",
            "14/14 [==============================] - 12s 473ms/step - loss: 0.2730 - acc: 0.9026 - val_loss: 1.2731 - val_acc: 0.4263\n",
            "Epoch 2/300\n",
            "14/14 [==============================] - 3s 237ms/step - loss: 0.0197 - acc: 0.9982 - val_loss: 1.3696 - val_acc: 0.5737\n",
            "Epoch 3/300\n",
            "14/14 [==============================] - 3s 238ms/step - loss: 0.0068 - acc: 1.0000 - val_loss: 2.3427 - val_acc: 0.5737\n",
            "Epoch 4/300\n",
            "14/14 [==============================] - 3s 237ms/step - loss: 0.0032 - acc: 1.0000 - val_loss: 2.8912 - val_acc: 0.5737\n",
            "Epoch 5/300\n",
            "14/14 [==============================] - 3s 237ms/step - loss: 0.0021 - acc: 1.0000 - val_loss: 3.3514 - val_acc: 0.5737\n",
            "Epoch 6/300\n",
            "14/14 [==============================] - 3s 237ms/step - loss: 0.0014 - acc: 1.0000 - val_loss: 2.7233 - val_acc: 0.5737\n",
            "Epoch 7/300\n",
            "14/14 [==============================] - 3s 237ms/step - loss: 9.4441e-04 - acc: 1.0000 - val_loss: 2.5400 - val_acc: 0.5737\n",
            "Epoch 8/300\n",
            "14/14 [==============================] - 3s 237ms/step - loss: 6.9865e-04 - acc: 1.0000 - val_loss: 2.3273 - val_acc: 0.5737\n",
            "Epoch 9/300\n",
            "14/14 [==============================] - 3s 237ms/step - loss: 6.4723e-04 - acc: 1.0000 - val_loss: 2.0355 - val_acc: 0.5737\n",
            "Epoch 10/300\n",
            "14/14 [==============================] - 3s 237ms/step - loss: 5.1172e-04 - acc: 1.0000 - val_loss: 1.8466 - val_acc: 0.5737\n",
            "Epoch 11/300\n",
            "14/14 [==============================] - 3s 237ms/step - loss: 3.9432e-04 - acc: 1.0000 - val_loss: 1.6166 - val_acc: 0.5737\n",
            "Epoch 12/300\n",
            "14/14 [==============================] - 3s 237ms/step - loss: 3.4177e-04 - acc: 1.0000 - val_loss: 1.4048 - val_acc: 0.5737\n",
            "Epoch 13/300\n",
            "14/14 [==============================] - 3s 237ms/step - loss: 3.6777e-04 - acc: 1.0000 - val_loss: 1.1686 - val_acc: 0.5816\n",
            "Epoch 14/300\n",
            "14/14 [==============================] - 3s 237ms/step - loss: 2.8774e-04 - acc: 1.0000 - val_loss: 1.0604 - val_acc: 0.5974\n",
            "Epoch 15/300\n",
            "14/14 [==============================] - 3s 237ms/step - loss: 2.4471e-04 - acc: 1.0000 - val_loss: 0.8065 - val_acc: 0.6605\n",
            "Epoch 16/300\n",
            "14/14 [==============================] - 3s 237ms/step - loss: 2.2725e-04 - acc: 1.0000 - val_loss: 0.6855 - val_acc: 0.7079\n",
            "Epoch 17/300\n",
            "14/14 [==============================] - 3s 237ms/step - loss: 2.0271e-04 - acc: 1.0000 - val_loss: 0.4923 - val_acc: 0.7553\n",
            "Epoch 18/300\n",
            "14/14 [==============================] - 3s 237ms/step - loss: 2.2098e-04 - acc: 1.0000 - val_loss: 0.3661 - val_acc: 0.8079\n",
            "Epoch 19/300\n",
            "14/14 [==============================] - 3s 237ms/step - loss: 1.9264e-04 - acc: 1.0000 - val_loss: 0.2809 - val_acc: 0.8526\n",
            "Epoch 20/300\n",
            "14/14 [==============================] - 3s 237ms/step - loss: 1.9672e-04 - acc: 1.0000 - val_loss: 0.1857 - val_acc: 0.9105\n",
            "Epoch 21/300\n",
            "14/14 [==============================] - 3s 237ms/step - loss: 1.8671e-04 - acc: 1.0000 - val_loss: 0.1343 - val_acc: 0.9368\n",
            "Epoch 22/300\n",
            "14/14 [==============================] - 3s 237ms/step - loss: 1.4249e-04 - acc: 1.0000 - val_loss: 0.0898 - val_acc: 0.9658\n",
            "Epoch 23/300\n",
            "14/14 [==============================] - 3s 237ms/step - loss: 1.3472e-04 - acc: 1.0000 - val_loss: 0.0608 - val_acc: 0.9868\n",
            "Epoch 24/300\n",
            "14/14 [==============================] - 3s 237ms/step - loss: 1.2096e-04 - acc: 1.0000 - val_loss: 0.0387 - val_acc: 0.9974\n",
            "Epoch 25/300\n",
            "14/14 [==============================] - 3s 237ms/step - loss: 1.3746e-04 - acc: 1.0000 - val_loss: 0.0262 - val_acc: 0.9974\n",
            "Epoch 26/300\n",
            "14/14 [==============================] - 3s 237ms/step - loss: 1.0454e-04 - acc: 1.0000 - val_loss: 0.0198 - val_acc: 0.9974\n",
            "Epoch 27/300\n",
            "14/14 [==============================] - 3s 237ms/step - loss: 1.0270e-04 - acc: 1.0000 - val_loss: 0.0143 - val_acc: 0.9974\n",
            "Epoch 28/300\n",
            "14/14 [==============================] - 3s 237ms/step - loss: 9.3682e-05 - acc: 1.0000 - val_loss: 0.0096 - val_acc: 0.9974\n",
            "Epoch 29/300\n",
            "14/14 [==============================] - 3s 237ms/step - loss: 1.1021e-04 - acc: 1.0000 - val_loss: 0.0081 - val_acc: 0.9974\n",
            "Epoch 30/300\n",
            "14/14 [==============================] - 3s 237ms/step - loss: 8.8836e-05 - acc: 1.0000 - val_loss: 0.0063 - val_acc: 0.9974\n",
            "Epoch 31/300\n",
            "14/14 [==============================] - 3s 237ms/step - loss: 9.8911e-05 - acc: 1.0000 - val_loss: 0.0050 - val_acc: 0.9974\n",
            "Epoch 32/300\n",
            "14/14 [==============================] - 3s 237ms/step - loss: 1.0723e-04 - acc: 1.0000 - val_loss: 0.0042 - val_acc: 1.0000\n",
            "Epoch 33/300\n",
            "14/14 [==============================] - 3s 237ms/step - loss: 8.8839e-05 - acc: 1.0000 - val_loss: 0.0037 - val_acc: 1.0000\n",
            "Epoch 34/300\n",
            "14/14 [==============================] - 3s 237ms/step - loss: 6.8159e-05 - acc: 1.0000 - val_loss: 0.0032 - val_acc: 1.0000\n",
            "Epoch 35/300\n",
            "14/14 [==============================] - 3s 237ms/step - loss: 8.6222e-05 - acc: 1.0000 - val_loss: 0.0029 - val_acc: 1.0000\n",
            "Epoch 36/300\n",
            "14/14 [==============================] - 3s 237ms/step - loss: 7.1384e-05 - acc: 1.0000 - val_loss: 0.0027 - val_acc: 1.0000\n",
            "Epoch 37/300\n",
            "14/14 [==============================] - 3s 238ms/step - loss: 6.7571e-05 - acc: 1.0000 - val_loss: 0.0025 - val_acc: 1.0000\n",
            "Epoch 38/300\n",
            "14/14 [==============================] - 3s 237ms/step - loss: 6.5496e-05 - acc: 1.0000 - val_loss: 0.0024 - val_acc: 1.0000\n",
            "Epoch 39/300\n",
            "14/14 [==============================] - 3s 238ms/step - loss: 7.5484e-05 - acc: 1.0000 - val_loss: 0.0023 - val_acc: 1.0000\n",
            "Epoch 40/300\n",
            "14/14 [==============================] - 3s 237ms/step - loss: 5.4660e-05 - acc: 1.0000 - val_loss: 0.0023 - val_acc: 1.0000\n",
            "Epoch 41/300\n",
            "14/14 [==============================] - 3s 237ms/step - loss: 5.9942e-05 - acc: 1.0000 - val_loss: 0.0024 - val_acc: 1.0000\n",
            "Epoch 42/300\n",
            "14/14 [==============================] - 3s 237ms/step - loss: 5.8902e-05 - acc: 1.0000 - val_loss: 0.0023 - val_acc: 1.0000\n",
            "Epoch 43/300\n",
            "14/14 [==============================] - 3s 237ms/step - loss: 5.0974e-05 - acc: 1.0000 - val_loss: 0.0025 - val_acc: 1.0000\n",
            "Epoch 44/300\n",
            "14/14 [==============================] - 3s 237ms/step - loss: 5.2224e-05 - acc: 1.0000 - val_loss: 0.0025 - val_acc: 1.0000\n",
            "Epoch 45/300\n",
            "14/14 [==============================] - 3s 237ms/step - loss: 4.9131e-05 - acc: 1.0000 - val_loss: 0.0027 - val_acc: 1.0000\n",
            "Epoch 46/300\n",
            "14/14 [==============================] - 3s 237ms/step - loss: 5.5718e-05 - acc: 1.0000 - val_loss: 0.0025 - val_acc: 1.0000\n",
            "Epoch 47/300\n",
            "14/14 [==============================] - 3s 237ms/step - loss: 4.3758e-05 - acc: 1.0000 - val_loss: 0.0025 - val_acc: 1.0000\n",
            "Epoch 48/300\n",
            "14/14 [==============================] - 3s 237ms/step - loss: 4.2889e-05 - acc: 1.0000 - val_loss: 0.0026 - val_acc: 1.0000\n",
            "Epoch 49/300\n",
            "14/14 [==============================] - 3s 237ms/step - loss: 4.8510e-05 - acc: 1.0000 - val_loss: 0.0026 - val_acc: 1.0000\n",
            "Epoch 50/300\n",
            "14/14 [==============================] - 3s 237ms/step - loss: 4.2408e-05 - acc: 1.0000 - val_loss: 0.0028 - val_acc: 1.0000\n",
            "Epoch 51/300\n",
            "14/14 [==============================] - 3s 237ms/step - loss: 3.8725e-05 - acc: 1.0000 - val_loss: 0.0030 - val_acc: 1.0000\n",
            "Epoch 52/300\n",
            "14/14 [==============================] - 3s 237ms/step - loss: 4.5608e-05 - acc: 1.0000 - val_loss: 0.0029 - val_acc: 1.0000\n",
            "Epoch 53/300\n",
            "14/14 [==============================] - 3s 237ms/step - loss: 3.6371e-05 - acc: 1.0000 - val_loss: 0.0026 - val_acc: 1.0000\n",
            "Epoch 54/300\n",
            "14/14 [==============================] - 3s 238ms/step - loss: 4.3609e-05 - acc: 1.0000 - val_loss: 0.0027 - val_acc: 1.0000\n",
            "Epoch 55/300\n",
            "14/14 [==============================] - 3s 237ms/step - loss: 4.7674e-05 - acc: 1.0000 - val_loss: 0.0024 - val_acc: 1.0000\n",
            "Epoch 56/300\n",
            "14/14 [==============================] - 3s 237ms/step - loss: 3.5736e-05 - acc: 1.0000 - val_loss: 0.0027 - val_acc: 1.0000\n",
            "Epoch 57/300\n",
            "14/14 [==============================] - 3s 237ms/step - loss: 3.9241e-05 - acc: 1.0000 - val_loss: 0.0028 - val_acc: 1.0000\n",
            "Epoch 58/300\n",
            "14/14 [==============================] - 3s 237ms/step - loss: 3.9143e-05 - acc: 1.0000 - val_loss: 0.0027 - val_acc: 1.0000\n",
            "Epoch 59/300\n",
            "14/14 [==============================] - 3s 237ms/step - loss: 3.8279e-05 - acc: 1.0000 - val_loss: 0.0028 - val_acc: 1.0000\n"
          ]
        }
      ]
    },
    {
      "cell_type": "code",
      "metadata": {
        "id": "L7114Ugj07Ra",
        "outputId": "4ba18cd2-e515-4dfd-fbc3-490a970fac89"
      },
      "source": [
        "plot_acc_graph(cqt_history)"
      ],
      "execution_count": null,
      "outputs": [
        {
          "data": {
            "image/png": "[encoded data removed]",
            "text/plain": [
              "<Figure size 432x288 with 1 Axes>"
            ]
          },
          "metadata": {
            "needs_background": "light"
          },
          "output_type": "display_data"
        }
      ]
    },
    {
      "cell_type": "code",
      "metadata": {
        "id": "-YPgNssq07Rb",
        "outputId": "34f57d8e-6f68-4f18-b101-745b43f4a64b"
      },
      "source": [
        "plot_loss_graph(cqt_history)"
      ],
      "execution_count": null,
      "outputs": [
        {
          "data": {
            "image/png": "[encoded data removed]",
            "text/plain": [
              "<Figure size 432x288 with 1 Axes>"
            ]
          },
          "metadata": {
            "needs_background": "light"
          },
          "output_type": "display_data"
        }
      ]
    },
    {
      "cell_type": "code",
      "metadata": {
        "id": "zfTXHl9O07Rb",
        "outputId": "a53c3c04-86d9-4068-f29d-fff9379aa5d5"
      },
      "source": [
        "model_cqt.evaluate(test_data_cqt, test_inst_cat)"
      ],
      "execution_count": null,
      "outputs": [
        {
          "name": "stdout",
          "output_type": "stream",
          "text": [
            "10/10 [==============================] - 1s 38ms/step - loss: 0.1190 - acc: 0.9467\n"
          ]
        },
        {
          "data": {
            "text/plain": [
              "[0.1190183162689209, 0.9466666579246521]"
            ]
          },
          "execution_count": 22,
          "metadata": {},
          "output_type": "execute_result"
        }
      ]
    },
    {
      "cell_type": "code",
      "metadata": {
        "id": "aRm-SLK507Rb",
        "outputId": "4f2b464c-e2c7-49c1-b68d-2e5a62c045fc"
      },
      "source": [
        "y_pred_cqt = np.around(model_cqt.predict(test_data_cqt))\n",
        "\n",
        "print(metrics.classification_report(test_inst_cat, y_pred_cqt, target_names=['Normal', 'Fault']))"
      ],
      "execution_count": null,
      "outputs": [
        {
          "name": "stdout",
          "output_type": "stream",
          "text": [
            "              precision    recall  f1-score   support\n",
            "\n",
            "      Normal       0.92      0.97      0.95       150\n",
            "       Fault       0.99      0.91      0.95       150\n",
            "\n",
            "   micro avg       0.96      0.94      0.95       300\n",
            "   macro avg       0.96      0.94      0.95       300\n",
            "weighted avg       0.96      0.94      0.95       300\n",
            " samples avg       0.94      0.94      0.94       300\n",
            "\n"
          ]
        },
        {
          "name": "stderr",
          "output_type": "stream",
          "text": [
            "C:\\Users\\CVLAB308\\.conda\\envs\\python38\\lib\\site-packages\\sklearn\\metrics\\_classification.py:1308: UndefinedMetricWarning: Precision and F-score are ill-defined and being set to 0.0 in samples with no predicted labels. Use `zero_division` parameter to control this behavior.\n",
            "  _warn_prf(average, modifier, msg_start, len(result))\n"
          ]
        }
      ]
    },
    {
      "cell_type": "code",
      "metadata": {
        "id": "Y7iLl2JV07Rb",
        "outputId": "b087f43e-09a7-4461-b344-915237e60795"
      },
      "source": [
        "pred_y_cqt = []\n",
        "for i in y_pred_cqt:\n",
        "    pred_y_cqt.append(np.argmax(i))\n",
        "    \n",
        "print(pred_y_cqt)"
      ],
      "execution_count": null,
      "outputs": [
        {
          "name": "stdout",
          "output_type": "stream",
          "text": [
            "[0, 0, 0, 0, 0, 0, 0, 0, 0, 0, 0, 0, 0, 0, 0, 0, 0, 0, 0, 0, 0, 0, 0, 0, 0, 0, 0, 0, 0, 0, 0, 0, 0, 0, 0, 0, 0, 0, 0, 0, 0, 0, 0, 0, 0, 0, 0, 0, 0, 0, 0, 0, 0, 0, 0, 0, 0, 0, 0, 0, 0, 0, 0, 0, 0, 0, 0, 0, 0, 0, 0, 0, 0, 0, 0, 0, 0, 0, 0, 0, 0, 0, 0, 0, 0, 0, 0, 0, 0, 0, 0, 0, 0, 0, 0, 0, 0, 0, 0, 0, 0, 0, 0, 0, 0, 0, 0, 0, 0, 0, 0, 1, 0, 0, 0, 0, 0, 0, 0, 0, 0, 0, 0, 0, 0, 0, 0, 0, 0, 0, 0, 0, 0, 0, 0, 0, 0, 0, 0, 0, 0, 0, 0, 0, 0, 0, 0, 0, 0, 0, 1, 1, 1, 1, 1, 1, 1, 1, 1, 1, 1, 1, 0, 1, 0, 1, 1, 1, 1, 1, 1, 1, 1, 1, 1, 1, 0, 1, 1, 1, 1, 1, 0, 1, 1, 1, 0, 0, 1, 1, 1, 0, 0, 0, 0, 0, 0, 1, 1, 1, 1, 1, 1, 1, 1, 1, 1, 1, 1, 1, 1, 1, 1, 1, 1, 1, 1, 1, 1, 1, 1, 1, 1, 1, 1, 1, 1, 1, 1, 1, 1, 1, 1, 1, 1, 1, 1, 1, 1, 1, 1, 1, 1, 1, 1, 1, 1, 1, 1, 1, 0, 1, 1, 0, 1, 1, 1, 1, 1, 1, 1, 1, 1, 1, 1, 1, 1, 1, 1, 1, 1, 1, 1, 1, 1, 1, 1, 1, 1, 1, 1, 1, 1, 1, 1, 1, 1, 1, 1, 1, 1, 1, 1, 1, 1, 1, 1, 1, 1, 1]\n"
          ]
        }
      ]
    },
    {
      "cell_type": "code",
      "metadata": {
        "id": "_zL372ik07Rb",
        "outputId": "f61fe01c-c07c-40b5-a288-145085bbfb48"
      },
      "source": [
        "from sklearn.metrics import confusion_matrix, ConfusionMatrixDisplay\n",
        "c_mat_cqt = confusion_matrix(test_label, pred_y_cqt)\n",
        "c_mat_cqt = c_mat_cqt / c_mat_cqt.astype(np.float).sum(axis=1)\n",
        "disp_cqt = ConfusionMatrixDisplay(confusion_matrix=c_mat_cqt, display_labels=['Normal', 'Fault'])\n",
        "disp_cqt.plot()\n",
        "plt.show()"
      ],
      "execution_count": null,
      "outputs": [
        {
          "name": "stderr",
          "output_type": "stream",
          "text": [
            "C:\\Users\\CVLAB308\\AppData\\Local\\Temp/ipykernel_2068/1169585728.py:3: DeprecationWarning: `np.float` is a deprecated alias for the builtin `float`. To silence this warning, use `float` by itself. Doing this will not modify any behavior and is safe. If you specifically wanted the numpy scalar type, use `np.float64` here.\n",
            "Deprecated in NumPy 1.20; for more details and guidance: https://numpy.org/devdocs/release/1.20.0-notes.html#deprecations\n",
            "  c_mat_cqt = c_mat_cqt / c_mat_cqt.astype(np.float).sum(axis=1)\n"
          ]
        },
        {
          "data": {
            "image/png": "[encoded data removed]",
            "text/plain": [
              "<Figure size 432x288 with 2 Axes>"
            ]
          },
          "metadata": {
            "needs_background": "light"
          },
          "output_type": "display_data"
        }
      ]
    },
    {
      "cell_type": "code",
      "metadata": {
        "id": "C57eBfWF07Rb"
      },
      "source": [
        "def mfcc(data, sr=16000):\n",
        "    audio_mfcc = []\n",
        "\n",
        "    for y in tqdm(data):\n",
        "        ret = librosa.feature.mfcc(y=y, sr=sr)\n",
        "        ret = np.abs(ret)\n",
        "        ret = librosa.power_to_db(ret, ref=np.max)\n",
        "        audio_mfcc.append(ret)\n",
        "\n",
        "    mfcc_np = np.array(audio_mfcc, np.float32)\n",
        "    mfcc_array = np.expand_dims(mfcc_np, -1)\n",
        "\n",
        "    return mfcc_array"
      ],
      "execution_count": null,
      "outputs": []
    },
    {
      "cell_type": "code",
      "metadata": {
        "id": "Hk5Tel9W07Rc",
        "outputId": "614765f1-6890-484e-9d82-93008379e4e1"
      },
      "source": [
        "train_data_mfcc = mfcc(train_data)\n",
        "test_data_mfcc = mfcc(test_data)\n",
        "\n",
        "print(train_data_mfcc.shape, test_data_mfcc.shape)"
      ],
      "execution_count": null,
      "outputs": [
        {
          "name": "stderr",
          "output_type": "stream",
          "text": [
            "100%|██████████| 3800/3800 [00:26<00:00, 145.64it/s]\n",
            "100%|██████████| 300/300 [00:02<00:00, 141.51it/s]"
          ]
        },
        {
          "name": "stdout",
          "output_type": "stream",
          "text": [
            "(3800, 20, 219, 1) (300, 20, 219, 1)\n"
          ]
        },
        {
          "name": "stderr",
          "output_type": "stream",
          "text": [
            "\n"
          ]
        }
      ]
    },
    {
      "cell_type": "code",
      "metadata": {
        "id": "B2z7QZRJ07Rc"
      },
      "source": [
        "train_data_mfcc_train, train_data_mfcc_val, train_label_mfcc_train, train_label_mfcc_val = train_test_split(train_data_mfcc, train_label, shuffle=True, test_size=0.1)"
      ],
      "execution_count": null,
      "outputs": []
    },
    {
      "cell_type": "code",
      "metadata": {
        "id": "04kzT-Rv07Rc"
      },
      "source": [
        "train_mfcc_inst_cat = to_categorical(train_label_mfcc_train)\n",
        "\n",
        "val_mfcc_inst_cat = to_categorical(train_label_mfcc_val)\n",
        "\n",
        "_, h_mfcc, w_mfcc, c_mfcc = train_data_mfcc_train.shape"
      ],
      "execution_count": null,
      "outputs": []
    },
    {
      "cell_type": "code",
      "metadata": {
        "id": "iUfQH_5w07Rc",
        "outputId": "15f5f2db-caee-446b-9e48-335affdabee6"
      },
      "source": [
        "model_mfcc = model_build(h_mfcc, w_mfcc, c_mfcc, Total_Class_Num=2)\n",
        "model_mfcc.summary()"
      ],
      "execution_count": null,
      "outputs": [
        {
          "name": "stdout",
          "output_type": "stream",
          "text": [
            "Model: \"model_1\"\n",
            "_________________________________________________________________\n",
            "Layer (type)                 Output Shape              Param #   \n",
            "=================================================================\n",
            "input_2 (InputLayer)         [(None, 20, 219, 1)]      0         \n",
            "_________________________________________________________________\n",
            "conv2d_7 (Conv2D)            (None, 20, 219, 32)       320       \n",
            "_________________________________________________________________\n",
            "batch_normalization_9 (Batch (None, 20, 219, 32)       128       \n",
            "_________________________________________________________________\n",
            "conv2d_8 (Conv2D)            (None, 20, 219, 32)       9248      \n",
            "_________________________________________________________________\n",
            "batch_normalization_10 (Batc (None, 20, 219, 32)       128       \n",
            "_________________________________________________________________\n",
            "max_pooling2d_4 (MaxPooling2 (None, 10, 110, 32)       0         \n",
            "_________________________________________________________________\n",
            "conv2d_9 (Conv2D)            (None, 10, 110, 64)       18496     \n",
            "_________________________________________________________________\n",
            "batch_normalization_11 (Batc (None, 10, 110, 64)       256       \n",
            "_________________________________________________________________\n",
            "conv2d_10 (Conv2D)           (None, 10, 110, 64)       36928     \n",
            "_________________________________________________________________\n",
            "batch_normalization_12 (Batc (None, 10, 110, 64)       256       \n",
            "_________________________________________________________________\n",
            "max_pooling2d_5 (MaxPooling2 (None, 5, 55, 64)         0         \n",
            "_________________________________________________________________\n",
            "conv2d_11 (Conv2D)           (None, 5, 55, 128)        73856     \n",
            "_________________________________________________________________\n",
            "batch_normalization_13 (Batc (None, 5, 55, 128)        512       \n",
            "_________________________________________________________________\n",
            "conv2d_12 (Conv2D)           (None, 5, 55, 128)        147584    \n",
            "_________________________________________________________________\n",
            "batch_normalization_14 (Batc (None, 5, 55, 128)        512       \n",
            "_________________________________________________________________\n",
            "max_pooling2d_6 (MaxPooling2 (None, 3, 28, 128)        0         \n",
            "_________________________________________________________________\n",
            "conv2d_13 (Conv2D)           (None, 3, 28, 256)        295168    \n",
            "_________________________________________________________________\n",
            "batch_normalization_15 (Batc (None, 3, 28, 256)        1024      \n",
            "_________________________________________________________________\n",
            "max_pooling2d_7 (MaxPooling2 (None, 2, 14, 256)        0         \n",
            "_________________________________________________________________\n",
            "flatten_1 (Flatten)          (None, 7168)              0         \n",
            "_________________________________________________________________\n",
            "dense_3 (Dense)              (None, 1024)              7341056   \n",
            "_________________________________________________________________\n",
            "batch_normalization_16 (Batc (None, 1024)              4096      \n",
            "_________________________________________________________________\n",
            "dense_4 (Dense)              (None, 128)               131200    \n",
            "_________________________________________________________________\n",
            "batch_normalization_17 (Batc (None, 128)               512       \n",
            "_________________________________________________________________\n",
            "dense_5 (Dense)              (None, 2)                 258       \n",
            "=================================================================\n",
            "Total params: 8,061,538\n",
            "Trainable params: 8,057,826\n",
            "Non-trainable params: 3,712\n",
            "_________________________________________________________________\n"
          ]
        }
      ]
    },
    {
      "cell_type": "code",
      "metadata": {
        "id": "hEMQeRbJ07Rc",
        "outputId": "0d38dd43-fc59-447b-db49-13bf97116de5"
      },
      "source": [
        "mfcc_history = model_mfcc.fit(train_data_mfcc_train, train_mfcc_inst_cat, epochs=300, batch_size=256, callbacks=[es, mfcc_checkpoint], validation_data=(train_data_mfcc_val, val_mfcc_inst_cat))"
      ],
      "execution_count": null,
      "outputs": [
        {
          "name": "stdout",
          "output_type": "stream",
          "text": [
            "Epoch 1/300\n",
            "14/14 [==============================] - 5s 195ms/step - loss: 0.5280 - acc: 0.7661 - val_loss: 1.8731 - val_acc: 0.5079\n",
            "Epoch 2/300\n",
            "14/14 [==============================] - 1s 69ms/step - loss: 0.1315 - acc: 0.9570 - val_loss: 0.6985 - val_acc: 0.5158\n",
            "Epoch 3/300\n",
            "14/14 [==============================] - 1s 69ms/step - loss: 0.0358 - acc: 0.9947 - val_loss: 0.7124 - val_acc: 0.5000\n",
            "Epoch 4/300\n",
            "14/14 [==============================] - 1s 69ms/step - loss: 0.0099 - acc: 1.0000 - val_loss: 0.6681 - val_acc: 0.6342\n",
            "Epoch 5/300\n",
            "14/14 [==============================] - 1s 69ms/step - loss: 0.0049 - acc: 1.0000 - val_loss: 0.7033 - val_acc: 0.5263\n",
            "Epoch 6/300\n",
            "14/14 [==============================] - 1s 69ms/step - loss: 0.0024 - acc: 1.0000 - val_loss: 0.6230 - val_acc: 0.6132\n",
            "Epoch 7/300\n",
            "14/14 [==============================] - 1s 69ms/step - loss: 0.0016 - acc: 1.0000 - val_loss: 0.6761 - val_acc: 0.5605\n",
            "Epoch 8/300\n",
            "14/14 [==============================] - 1s 69ms/step - loss: 0.0012 - acc: 1.0000 - val_loss: 0.7616 - val_acc: 0.5368\n",
            "Epoch 9/300\n",
            "14/14 [==============================] - 1s 69ms/step - loss: 9.3869e-04 - acc: 1.0000 - val_loss: 0.9041 - val_acc: 0.5263\n",
            "Epoch 10/300\n",
            "14/14 [==============================] - 1s 69ms/step - loss: 7.4585e-04 - acc: 1.0000 - val_loss: 1.1249 - val_acc: 0.5237\n",
            "Epoch 11/300\n",
            "14/14 [==============================] - 1s 69ms/step - loss: 5.8953e-04 - acc: 1.0000 - val_loss: 1.2373 - val_acc: 0.5263\n",
            "Epoch 12/300\n",
            "14/14 [==============================] - 1s 69ms/step - loss: 5.8928e-04 - acc: 1.0000 - val_loss: 1.2927 - val_acc: 0.5263\n",
            "Epoch 13/300\n",
            "14/14 [==============================] - 1s 69ms/step - loss: 5.4736e-04 - acc: 1.0000 - val_loss: 1.4078 - val_acc: 0.5289\n",
            "Epoch 14/300\n",
            "14/14 [==============================] - 1s 69ms/step - loss: 4.2235e-04 - acc: 1.0000 - val_loss: 1.3935 - val_acc: 0.5447\n",
            "Epoch 15/300\n",
            "14/14 [==============================] - 1s 69ms/step - loss: 3.9097e-04 - acc: 1.0000 - val_loss: 1.3327 - val_acc: 0.5632\n",
            "Epoch 16/300\n",
            "14/14 [==============================] - 1s 69ms/step - loss: 3.8497e-04 - acc: 1.0000 - val_loss: 1.2420 - val_acc: 0.5684\n",
            "Epoch 17/300\n",
            "14/14 [==============================] - 1s 69ms/step - loss: 3.3960e-04 - acc: 1.0000 - val_loss: 1.2370 - val_acc: 0.5974\n",
            "Epoch 18/300\n",
            "14/14 [==============================] - 1s 69ms/step - loss: 2.6363e-04 - acc: 1.0000 - val_loss: 0.9831 - val_acc: 0.6526\n",
            "Epoch 19/300\n",
            "14/14 [==============================] - 1s 69ms/step - loss: 3.4685e-04 - acc: 1.0000 - val_loss: 0.8589 - val_acc: 0.6816\n",
            "Epoch 20/300\n",
            "14/14 [==============================] - 1s 69ms/step - loss: 2.4201e-04 - acc: 1.0000 - val_loss: 0.6619 - val_acc: 0.7500\n",
            "Epoch 21/300\n",
            "14/14 [==============================] - 1s 69ms/step - loss: 2.1391e-04 - acc: 1.0000 - val_loss: 0.5418 - val_acc: 0.7816\n",
            "Epoch 22/300\n",
            "14/14 [==============================] - 1s 69ms/step - loss: 2.0451e-04 - acc: 1.0000 - val_loss: 0.4745 - val_acc: 0.8263\n",
            "Epoch 23/300\n",
            "14/14 [==============================] - 1s 69ms/step - loss: 1.9229e-04 - acc: 1.0000 - val_loss: 0.3572 - val_acc: 0.8605\n",
            "Epoch 24/300\n",
            "14/14 [==============================] - 1s 69ms/step - loss: 1.7516e-04 - acc: 1.0000 - val_loss: 0.2733 - val_acc: 0.8947\n",
            "Epoch 25/300\n",
            "14/14 [==============================] - 1s 69ms/step - loss: 1.8577e-04 - acc: 1.0000 - val_loss: 0.2076 - val_acc: 0.9211\n",
            "Epoch 26/300\n",
            "14/14 [==============================] - 1s 69ms/step - loss: 1.5612e-04 - acc: 1.0000 - val_loss: 0.1639 - val_acc: 0.9289\n",
            "Epoch 27/300\n",
            "14/14 [==============================] - 1s 69ms/step - loss: 1.5115e-04 - acc: 1.0000 - val_loss: 0.1204 - val_acc: 0.9500\n",
            "Epoch 28/300\n",
            "14/14 [==============================] - 1s 69ms/step - loss: 1.3041e-04 - acc: 1.0000 - val_loss: 0.0928 - val_acc: 0.9579\n",
            "Epoch 29/300\n",
            "14/14 [==============================] - 1s 69ms/step - loss: 1.4297e-04 - acc: 1.0000 - val_loss: 0.0747 - val_acc: 0.9658\n",
            "Epoch 30/300\n",
            "14/14 [==============================] - 1s 69ms/step - loss: 1.2702e-04 - acc: 1.0000 - val_loss: 0.0622 - val_acc: 0.9789\n",
            "Epoch 31/300\n",
            "14/14 [==============================] - 1s 69ms/step - loss: 1.1195e-04 - acc: 1.0000 - val_loss: 0.0497 - val_acc: 0.9789\n",
            "Epoch 32/300\n",
            "14/14 [==============================] - 1s 69ms/step - loss: 1.0689e-04 - acc: 1.0000 - val_loss: 0.0402 - val_acc: 0.9789\n",
            "Epoch 33/300\n",
            "14/14 [==============================] - 1s 69ms/step - loss: 1.0078e-04 - acc: 1.0000 - val_loss: 0.0323 - val_acc: 0.9868\n",
            "Epoch 34/300\n",
            "14/14 [==============================] - 1s 69ms/step - loss: 1.0360e-04 - acc: 1.0000 - val_loss: 0.0286 - val_acc: 0.9895\n",
            "Epoch 35/300\n",
            "14/14 [==============================] - 1s 69ms/step - loss: 1.0507e-04 - acc: 1.0000 - val_loss: 0.0259 - val_acc: 0.9895\n",
            "Epoch 36/300\n",
            "14/14 [==============================] - 1s 69ms/step - loss: 1.0508e-04 - acc: 1.0000 - val_loss: 0.0245 - val_acc: 0.9895\n",
            "Epoch 37/300\n",
            "14/14 [==============================] - 1s 69ms/step - loss: 8.7652e-05 - acc: 1.0000 - val_loss: 0.0229 - val_acc: 0.9895\n",
            "Epoch 38/300\n",
            "14/14 [==============================] - 1s 69ms/step - loss: 8.0131e-05 - acc: 1.0000 - val_loss: 0.0222 - val_acc: 0.9895\n",
            "Epoch 39/300\n",
            "14/14 [==============================] - 1s 69ms/step - loss: 7.0004e-05 - acc: 1.0000 - val_loss: 0.0220 - val_acc: 0.9921\n",
            "Epoch 40/300\n",
            "14/14 [==============================] - 1s 69ms/step - loss: 8.1130e-05 - acc: 1.0000 - val_loss: 0.0215 - val_acc: 0.9921\n",
            "Epoch 41/300\n",
            "14/14 [==============================] - 1s 69ms/step - loss: 8.3827e-05 - acc: 1.0000 - val_loss: 0.0215 - val_acc: 0.9921\n",
            "Epoch 42/300\n",
            "14/14 [==============================] - 1s 69ms/step - loss: 7.8220e-05 - acc: 1.0000 - val_loss: 0.0197 - val_acc: 0.9947\n",
            "Epoch 43/300\n",
            "14/14 [==============================] - 1s 69ms/step - loss: 8.4593e-05 - acc: 1.0000 - val_loss: 0.0196 - val_acc: 0.9947\n",
            "Epoch 44/300\n",
            "14/14 [==============================] - 1s 69ms/step - loss: 6.0540e-05 - acc: 1.0000 - val_loss: 0.0203 - val_acc: 0.9947\n",
            "Epoch 45/300\n",
            "14/14 [==============================] - 1s 69ms/step - loss: 6.5731e-05 - acc: 1.0000 - val_loss: 0.0209 - val_acc: 0.9921\n",
            "Epoch 46/300\n",
            "14/14 [==============================] - 1s 69ms/step - loss: 6.8519e-05 - acc: 1.0000 - val_loss: 0.0232 - val_acc: 0.9921\n",
            "Epoch 47/300\n",
            "14/14 [==============================] - 1s 69ms/step - loss: 6.2072e-05 - acc: 1.0000 - val_loss: 0.0242 - val_acc: 0.9921\n",
            "Epoch 48/300\n",
            "14/14 [==============================] - 1s 69ms/step - loss: 5.3587e-05 - acc: 1.0000 - val_loss: 0.0253 - val_acc: 0.9921\n",
            "Epoch 49/300\n",
            "14/14 [==============================] - 1s 69ms/step - loss: 5.1284e-05 - acc: 1.0000 - val_loss: 0.0261 - val_acc: 0.9895\n",
            "Epoch 50/300\n",
            "14/14 [==============================] - 1s 69ms/step - loss: 4.4724e-05 - acc: 1.0000 - val_loss: 0.0262 - val_acc: 0.9895\n",
            "Epoch 51/300\n",
            "14/14 [==============================] - 1s 69ms/step - loss: 4.7961e-05 - acc: 1.0000 - val_loss: 0.0257 - val_acc: 0.9895\n",
            "Epoch 52/300\n",
            "14/14 [==============================] - 1s 69ms/step - loss: 4.6292e-05 - acc: 1.0000 - val_loss: 0.0263 - val_acc: 0.9895\n",
            "Epoch 53/300\n",
            "14/14 [==============================] - 1s 69ms/step - loss: 4.7960e-05 - acc: 1.0000 - val_loss: 0.0278 - val_acc: 0.9895\n",
            "Epoch 54/300\n",
            "14/14 [==============================] - 1s 69ms/step - loss: 5.1011e-05 - acc: 1.0000 - val_loss: 0.0289 - val_acc: 0.9868\n",
            "Epoch 55/300\n",
            "14/14 [==============================] - 1s 69ms/step - loss: 3.9939e-05 - acc: 1.0000 - val_loss: 0.0295 - val_acc: 0.9868\n",
            "Epoch 56/300\n",
            "14/14 [==============================] - 1s 69ms/step - loss: 4.8929e-05 - acc: 1.0000 - val_loss: 0.0292 - val_acc: 0.9868\n",
            "Epoch 57/300\n",
            "14/14 [==============================] - 1s 69ms/step - loss: 4.4229e-05 - acc: 1.0000 - val_loss: 0.0312 - val_acc: 0.9868\n",
            "Epoch 58/300\n",
            "14/14 [==============================] - 1s 69ms/step - loss: 3.4853e-05 - acc: 1.0000 - val_loss: 0.0315 - val_acc: 0.9868\n",
            "Epoch 59/300\n",
            "14/14 [==============================] - 1s 69ms/step - loss: 3.8205e-05 - acc: 1.0000 - val_loss: 0.0325 - val_acc: 0.9868\n",
            "Epoch 60/300\n",
            "14/14 [==============================] - 1s 69ms/step - loss: 3.7969e-05 - acc: 1.0000 - val_loss: 0.0316 - val_acc: 0.9868\n",
            "Epoch 61/300\n",
            "14/14 [==============================] - 1s 69ms/step - loss: 3.4836e-05 - acc: 1.0000 - val_loss: 0.0330 - val_acc: 0.9868\n",
            "Epoch 62/300\n",
            "14/14 [==============================] - 1s 69ms/step - loss: 3.6817e-05 - acc: 1.0000 - val_loss: 0.0295 - val_acc: 0.9921\n",
            "Epoch 63/300\n",
            "14/14 [==============================] - 1s 69ms/step - loss: 3.2774e-05 - acc: 1.0000 - val_loss: 0.0306 - val_acc: 0.9895\n"
          ]
        }
      ]
    },
    {
      "cell_type": "code",
      "metadata": {
        "id": "_8q2xAkc07Rc",
        "outputId": "163a303e-e610-4922-ebcc-a4ad8b937367"
      },
      "source": [
        "plot_acc_graph(mfcc_history)"
      ],
      "execution_count": null,
      "outputs": [
        {
          "data": {
            "image/png": "[encoded data removed]",
            "text/plain": [
              "<Figure size 432x288 with 1 Axes>"
            ]
          },
          "metadata": {
            "needs_background": "light"
          },
          "output_type": "display_data"
        }
      ]
    },
    {
      "cell_type": "code",
      "metadata": {
        "id": "nPc1YMCr07Rc",
        "outputId": "7a66b980-5684-4315-d7fa-829d5dae14e3"
      },
      "source": [
        "plot_loss_graph(mfcc_history)"
      ],
      "execution_count": null,
      "outputs": [
        {
          "data": {
            "image/png": "[encoded data removed]",
            "text/plain": [
              "<Figure size 432x288 with 1 Axes>"
            ]
          },
          "metadata": {
            "needs_background": "light"
          },
          "output_type": "display_data"
        }
      ]
    },
    {
      "cell_type": "code",
      "metadata": {
        "id": "rynHjdSs07Rc",
        "outputId": "7201b0aa-d084-49a0-ca74-64f658154494"
      },
      "source": [
        "model_mfcc.evaluate(test_data_mfcc, test_inst_cat)"
      ],
      "execution_count": null,
      "outputs": [
        {
          "name": "stdout",
          "output_type": "stream",
          "text": [
            "10/10 [==============================] - 0s 21ms/step - loss: 0.9571 - acc: 0.7967\n"
          ]
        },
        {
          "data": {
            "text/plain": [
              "[0.957135021686554, 0.79666668176651]"
            ]
          },
          "execution_count": 34,
          "metadata": {},
          "output_type": "execute_result"
        }
      ]
    },
    {
      "cell_type": "code",
      "metadata": {
        "id": "dV_ki4Mf07Rc",
        "outputId": "e17c8b64-97f7-40e5-93c7-389a3fb264f8"
      },
      "source": [
        "y_pred_mfcc = np.around(model_mfcc.predict(test_data_mfcc))\n",
        "\n",
        "print(metrics.classification_report(test_inst_cat, y_pred_mfcc, target_names=['Normal', 'Fault']))"
      ],
      "execution_count": null,
      "outputs": [
        {
          "name": "stdout",
          "output_type": "stream",
          "text": [
            "              precision    recall  f1-score   support\n",
            "\n",
            "      Normal       0.72      0.97      0.83       150\n",
            "       Fault       0.94      0.63      0.75       150\n",
            "\n",
            "   micro avg       0.79      0.80      0.80       300\n",
            "   macro avg       0.83      0.80      0.79       300\n",
            "weighted avg       0.83      0.80      0.79       300\n",
            " samples avg       0.80      0.80      0.80       300\n",
            "\n"
          ]
        }
      ]
    },
    {
      "cell_type": "code",
      "metadata": {
        "id": "u_0APEtz07Rd",
        "outputId": "3ea8c3ee-b966-4e0c-d6b5-eb384e77fac9"
      },
      "source": [
        "pred_y_mfcc = []\n",
        "for i in y_pred_mfcc:\n",
        "    pred_y_mfcc.append(np.argmax(i))\n",
        "    \n",
        "print(pred_y_mfcc)"
      ],
      "execution_count": null,
      "outputs": [
        {
          "name": "stdout",
          "output_type": "stream",
          "text": [
            "[0, 0, 0, 0, 0, 0, 0, 0, 0, 0, 0, 0, 0, 0, 0, 0, 0, 0, 0, 0, 0, 0, 0, 0, 0, 0, 0, 0, 0, 0, 0, 0, 0, 0, 0, 0, 0, 0, 0, 0, 0, 0, 0, 0, 0, 0, 0, 0, 0, 0, 0, 1, 1, 0, 0, 0, 0, 0, 0, 0, 0, 0, 0, 0, 0, 0, 0, 0, 0, 0, 0, 0, 0, 0, 0, 0, 0, 0, 0, 0, 0, 0, 0, 0, 0, 0, 0, 0, 0, 0, 0, 0, 0, 0, 0, 0, 0, 0, 0, 0, 0, 0, 1, 1, 1, 0, 0, 0, 0, 0, 0, 0, 0, 0, 0, 0, 0, 0, 0, 0, 0, 0, 0, 0, 0, 0, 0, 0, 0, 0, 0, 0, 0, 0, 0, 0, 0, 0, 0, 0, 0, 0, 0, 0, 0, 0, 0, 0, 0, 0, 0, 0, 0, 1, 1, 1, 0, 0, 0, 0, 0, 0, 0, 0, 0, 0, 0, 0, 0, 0, 1, 0, 0, 0, 0, 0, 0, 0, 0, 0, 0, 1, 1, 0, 0, 0, 0, 0, 0, 0, 0, 0, 0, 0, 0, 0, 0, 0, 1, 0, 1, 1, 1, 1, 1, 1, 0, 0, 1, 1, 1, 1, 0, 1, 1, 1, 1, 1, 1, 1, 1, 1, 1, 1, 1, 0, 0, 1, 0, 1, 1, 1, 1, 1, 1, 1, 1, 1, 1, 1, 1, 0, 1, 1, 1, 1, 1, 1, 1, 1, 1, 1, 1, 1, 1, 1, 1, 1, 1, 1, 1, 1, 1, 1, 0, 0, 1, 0, 1, 1, 1, 1, 1, 1, 1, 1, 1, 1, 1, 1, 0, 1, 1, 1, 1, 1, 1, 1, 1, 1, 1, 1, 0, 1, 0, 1, 1, 1, 1, 1]\n"
          ]
        }
      ]
    },
    {
      "cell_type": "code",
      "metadata": {
        "id": "iYN2KHWE07Rd",
        "outputId": "bf1a6742-4d17-4199-99e1-1eec1b0fee59"
      },
      "source": [
        "c_mat_mfcc = confusion_matrix(test_label, pred_y_mfcc)\n",
        "c_mat_mfcc = c_mat_mfcc / c_mat_mfcc.astype(np.float).sum(axis=1)\n",
        "disp_mfcc = ConfusionMatrixDisplay(confusion_matrix=c_mat_mfcc, display_labels=['Normal', 'Fault'])\n",
        "disp_mfcc.plot()\n",
        "plt.show()"
      ],
      "execution_count": null,
      "outputs": [
        {
          "name": "stderr",
          "output_type": "stream",
          "text": [
            "C:\\Users\\CVLAB308\\AppData\\Local\\Temp/ipykernel_2068/3093702039.py:2: DeprecationWarning: `np.float` is a deprecated alias for the builtin `float`. To silence this warning, use `float` by itself. Doing this will not modify any behavior and is safe. If you specifically wanted the numpy scalar type, use `np.float64` here.\n",
            "Deprecated in NumPy 1.20; for more details and guidance: https://numpy.org/devdocs/release/1.20.0-notes.html#deprecations\n",
            "  c_mat_mfcc = c_mat_mfcc / c_mat_mfcc.astype(np.float).sum(axis=1)\n"
          ]
        },
        {
          "data": {
            "image/png": "[encoded data removed]",
            "text/plain": [
              "<Figure size 432x288 with 2 Axes>"
            ]
          },
          "metadata": {
            "needs_background": "light"
          },
          "output_type": "display_data"
        }
      ]
    },
    {
      "cell_type": "code",
      "metadata": {
        "id": "zMMAvIdM07Rd"
      },
      "source": [
        "def melspec(data, sr=16000):\n",
        "    audio_melspec = []\n",
        "\n",
        "    for y in tqdm(data):\n",
        "        ret = librosa.feature.melspectrogram(y=y, sr=sr)\n",
        "        ret = np.abs(ret)\n",
        "        ret = librosa.power_to_db(ret, ref=np.max)\n",
        "        audio_melspec.append(ret)\n",
        "\n",
        "    melspec_np = np.array(audio_melspec, np.float32)\n",
        "    melspec_array = np.expand_dims(melspec_np, -1)\n",
        "\n",
        "    return melspec_array"
      ],
      "execution_count": null,
      "outputs": []
    },
    {
      "cell_type": "code",
      "metadata": {
        "id": "uWtFfZvC07Rd",
        "outputId": "d9529538-2e89-458e-cbbc-8d4d378a3e1f"
      },
      "source": [
        "train_data_melspec = melspec(train_data)\n",
        "test_data_melspec = melspec(test_data)\n",
        "\n",
        "print(train_data_melspec.shape, test_data_melspec.shape)"
      ],
      "execution_count": null,
      "outputs": [
        {
          "name": "stderr",
          "output_type": "stream",
          "text": [
            "100%|██████████| 3800/3800 [00:25<00:00, 146.87it/s]\n",
            "100%|██████████| 300/300 [00:02<00:00, 148.29it/s]"
          ]
        },
        {
          "name": "stdout",
          "output_type": "stream",
          "text": [
            "(3800, 128, 219, 1) (300, 128, 219, 1)\n"
          ]
        },
        {
          "name": "stderr",
          "output_type": "stream",
          "text": [
            "\n"
          ]
        }
      ]
    },
    {
      "cell_type": "code",
      "metadata": {
        "id": "TxKnJcXA07Rd"
      },
      "source": [
        "train_data_melspec_train, train_data_melspec_val, train_label_melspec_train, train_label_melspec_val = train_test_split(train_data_melspec, train_label, shuffle=True, test_size=0.1)"
      ],
      "execution_count": null,
      "outputs": []
    },
    {
      "cell_type": "code",
      "metadata": {
        "id": "fvx5DErb07Rd"
      },
      "source": [
        "train_melspec_inst_cat = to_categorical(train_label_melspec_train)\n",
        "\n",
        "val_melspec_inst_cat = to_categorical(train_label_melspec_val)\n",
        "\n",
        "_, h_melspec, w_melspec, c_melspec = train_data_melspec_train.shape"
      ],
      "execution_count": null,
      "outputs": []
    },
    {
      "cell_type": "code",
      "metadata": {
        "id": "FvqgG5ip07Rd",
        "outputId": "06ae4b42-d1ef-441c-db42-4586c0bb4765"
      },
      "source": [
        "model_melspec = model_build(h_melspec, w_melspec, c_melspec, Total_Class_Num=2)\n",
        "model_melspec.summary()"
      ],
      "execution_count": null,
      "outputs": [
        {
          "name": "stdout",
          "output_type": "stream",
          "text": [
            "Model: \"model_2\"\n",
            "_________________________________________________________________\n",
            "Layer (type)                 Output Shape              Param #   \n",
            "=================================================================\n",
            "input_3 (InputLayer)         [(None, 128, 219, 1)]     0         \n",
            "_________________________________________________________________\n",
            "conv2d_14 (Conv2D)           (None, 128, 219, 32)      320       \n",
            "_________________________________________________________________\n",
            "batch_normalization_18 (Batc (None, 128, 219, 32)      128       \n",
            "_________________________________________________________________\n",
            "conv2d_15 (Conv2D)           (None, 128, 219, 32)      9248      \n",
            "_________________________________________________________________\n",
            "batch_normalization_19 (Batc (None, 128, 219, 32)      128       \n",
            "_________________________________________________________________\n",
            "max_pooling2d_8 (MaxPooling2 (None, 64, 110, 32)       0         \n",
            "_________________________________________________________________\n",
            "conv2d_16 (Conv2D)           (None, 64, 110, 64)       18496     \n",
            "_________________________________________________________________\n",
            "batch_normalization_20 (Batc (None, 64, 110, 64)       256       \n",
            "_________________________________________________________________\n",
            "conv2d_17 (Conv2D)           (None, 64, 110, 64)       36928     \n",
            "_________________________________________________________________\n",
            "batch_normalization_21 (Batc (None, 64, 110, 64)       256       \n",
            "_________________________________________________________________\n",
            "max_pooling2d_9 (MaxPooling2 (None, 32, 55, 64)        0         \n",
            "_________________________________________________________________\n",
            "conv2d_18 (Conv2D)           (None, 32, 55, 128)       73856     \n",
            "_________________________________________________________________\n",
            "batch_normalization_22 (Batc (None, 32, 55, 128)       512       \n",
            "_________________________________________________________________\n",
            "conv2d_19 (Conv2D)           (None, 32, 55, 128)       147584    \n",
            "_________________________________________________________________\n",
            "batch_normalization_23 (Batc (None, 32, 55, 128)       512       \n",
            "_________________________________________________________________\n",
            "max_pooling2d_10 (MaxPooling (None, 16, 28, 128)       0         \n",
            "_________________________________________________________________\n",
            "conv2d_20 (Conv2D)           (None, 16, 28, 256)       295168    \n",
            "_________________________________________________________________\n",
            "batch_normalization_24 (Batc (None, 16, 28, 256)       1024      \n",
            "_________________________________________________________________\n",
            "max_pooling2d_11 (MaxPooling (None, 8, 14, 256)        0         \n",
            "_________________________________________________________________\n",
            "flatten_2 (Flatten)          (None, 28672)             0         \n",
            "_________________________________________________________________\n",
            "dense_6 (Dense)              (None, 1024)              29361152  \n",
            "_________________________________________________________________\n",
            "batch_normalization_25 (Batc (None, 1024)              4096      \n",
            "_________________________________________________________________\n",
            "dense_7 (Dense)              (None, 128)               131200    \n",
            "_________________________________________________________________\n",
            "batch_normalization_26 (Batc (None, 128)               512       \n",
            "_________________________________________________________________\n",
            "dense_8 (Dense)              (None, 2)                 258       \n",
            "=================================================================\n",
            "Total params: 30,081,634\n",
            "Trainable params: 30,077,922\n",
            "Non-trainable params: 3,712\n",
            "_________________________________________________________________\n"
          ]
        }
      ]
    },
    {
      "cell_type": "code",
      "metadata": {
        "id": "Aaa4waYe07Rd",
        "outputId": "f3021d58-8da7-45fd-8a16-8a293cfc9579"
      },
      "source": [
        "melspec_history = model_melspec.fit(train_data_melspec_train, train_melspec_inst_cat, epochs=300, batch_size=256, callbacks=[es, melspec_checkpoint], validation_data=(train_data_melspec_val, val_melspec_inst_cat))"
      ],
      "execution_count": null,
      "outputs": [
        {
          "name": "stdout",
          "output_type": "stream",
          "text": [
            "Epoch 1/300\n",
            "14/14 [==============================] - 13s 638ms/step - loss: 0.3297 - acc: 0.8991 - val_loss: 2.7272 - val_acc: 0.4237\n",
            "Epoch 2/300\n",
            "14/14 [==============================] - 5s 333ms/step - loss: 0.0210 - acc: 0.9974 - val_loss: 1.0022 - val_acc: 0.5763\n",
            "Epoch 3/300\n",
            "14/14 [==============================] - 5s 333ms/step - loss: 0.0082 - acc: 0.9994 - val_loss: 1.0284 - val_acc: 0.5763\n",
            "Epoch 4/300\n",
            "14/14 [==============================] - 5s 333ms/step - loss: 0.0038 - acc: 0.9997 - val_loss: 2.8447 - val_acc: 0.5763\n",
            "Epoch 5/300\n",
            "14/14 [==============================] - 5s 332ms/step - loss: 0.0019 - acc: 1.0000 - val_loss: 3.7461 - val_acc: 0.5763\n",
            "Epoch 6/300\n",
            "14/14 [==============================] - 5s 333ms/step - loss: 0.0011 - acc: 1.0000 - val_loss: 3.2540 - val_acc: 0.5763\n",
            "Epoch 7/300\n",
            "14/14 [==============================] - 5s 333ms/step - loss: 9.5398e-04 - acc: 1.0000 - val_loss: 2.2333 - val_acc: 0.5763\n",
            "Epoch 8/300\n",
            "14/14 [==============================] - 5s 333ms/step - loss: 6.5129e-04 - acc: 1.0000 - val_loss: 1.6387 - val_acc: 0.5789\n",
            "Epoch 9/300\n",
            "14/14 [==============================] - 5s 333ms/step - loss: 5.6833e-04 - acc: 1.0000 - val_loss: 1.5160 - val_acc: 0.5947\n",
            "Epoch 10/300\n",
            "14/14 [==============================] - 5s 333ms/step - loss: 4.4663e-04 - acc: 1.0000 - val_loss: 1.4591 - val_acc: 0.6079\n",
            "Epoch 11/300\n",
            "14/14 [==============================] - 5s 333ms/step - loss: 3.7825e-04 - acc: 1.0000 - val_loss: 1.4181 - val_acc: 0.6079\n",
            "Epoch 12/300\n",
            "14/14 [==============================] - 5s 333ms/step - loss: 3.0276e-04 - acc: 1.0000 - val_loss: 1.4236 - val_acc: 0.6158\n",
            "Epoch 13/300\n",
            "14/14 [==============================] - 5s 333ms/step - loss: 2.8007e-04 - acc: 1.0000 - val_loss: 1.3776 - val_acc: 0.6132\n",
            "Epoch 14/300\n",
            "14/14 [==============================] - 5s 333ms/step - loss: 2.7451e-04 - acc: 1.0000 - val_loss: 1.2334 - val_acc: 0.6289\n",
            "Epoch 15/300\n",
            "14/14 [==============================] - 5s 333ms/step - loss: 2.5407e-04 - acc: 1.0000 - val_loss: 1.1206 - val_acc: 0.6395\n",
            "Epoch 16/300\n",
            "14/14 [==============================] - 5s 333ms/step - loss: 2.1880e-04 - acc: 1.0000 - val_loss: 0.9891 - val_acc: 0.6605\n",
            "Epoch 17/300\n",
            "14/14 [==============================] - 5s 333ms/step - loss: 1.8774e-04 - acc: 1.0000 - val_loss: 0.8053 - val_acc: 0.6947\n",
            "Epoch 18/300\n",
            "14/14 [==============================] - 5s 333ms/step - loss: 1.7188e-04 - acc: 1.0000 - val_loss: 0.6180 - val_acc: 0.7474\n",
            "Epoch 19/300\n",
            "14/14 [==============================] - 5s 333ms/step - loss: 1.8495e-04 - acc: 1.0000 - val_loss: 0.4572 - val_acc: 0.8211\n",
            "Epoch 20/300\n",
            "14/14 [==============================] - 5s 333ms/step - loss: 1.6181e-04 - acc: 1.0000 - val_loss: 0.3503 - val_acc: 0.8579\n",
            "Epoch 21/300\n",
            "14/14 [==============================] - 5s 333ms/step - loss: 1.5409e-04 - acc: 1.0000 - val_loss: 0.2466 - val_acc: 0.8974\n",
            "Epoch 22/300\n",
            "14/14 [==============================] - 5s 333ms/step - loss: 1.4296e-04 - acc: 1.0000 - val_loss: 0.1636 - val_acc: 0.9289\n",
            "Epoch 23/300\n",
            "14/14 [==============================] - 5s 333ms/step - loss: 1.3010e-04 - acc: 1.0000 - val_loss: 0.0903 - val_acc: 0.9579\n",
            "Epoch 24/300\n",
            "14/14 [==============================] - 5s 333ms/step - loss: 1.3227e-04 - acc: 1.0000 - val_loss: 0.0441 - val_acc: 0.9895\n",
            "Epoch 25/300\n",
            "14/14 [==============================] - 5s 333ms/step - loss: 1.2384e-04 - acc: 1.0000 - val_loss: 0.0312 - val_acc: 0.9921\n",
            "Epoch 26/300\n",
            "14/14 [==============================] - 5s 333ms/step - loss: 1.3005e-04 - acc: 1.0000 - val_loss: 0.0140 - val_acc: 1.0000\n",
            "Epoch 27/300\n",
            "14/14 [==============================] - 5s 333ms/step - loss: 1.1508e-04 - acc: 1.0000 - val_loss: 0.0077 - val_acc: 1.0000\n",
            "Epoch 28/300\n",
            "14/14 [==============================] - 5s 333ms/step - loss: 1.2157e-04 - acc: 1.0000 - val_loss: 0.0034 - val_acc: 1.0000\n",
            "Epoch 29/300\n",
            "14/14 [==============================] - 5s 333ms/step - loss: 9.6895e-05 - acc: 1.0000 - val_loss: 0.0024 - val_acc: 1.0000\n",
            "Epoch 30/300\n",
            "14/14 [==============================] - 5s 333ms/step - loss: 9.2581e-05 - acc: 1.0000 - val_loss: 0.0016 - val_acc: 1.0000\n",
            "Epoch 31/300\n",
            "14/14 [==============================] - 5s 333ms/step - loss: 1.0445e-04 - acc: 1.0000 - val_loss: 9.2514e-04 - val_acc: 1.0000\n",
            "Epoch 32/300\n",
            "14/14 [==============================] - 5s 333ms/step - loss: 9.0842e-05 - acc: 1.0000 - val_loss: 7.4917e-04 - val_acc: 1.0000\n",
            "Epoch 33/300\n",
            "14/14 [==============================] - 5s 333ms/step - loss: 9.9800e-05 - acc: 1.0000 - val_loss: 4.8857e-04 - val_acc: 1.0000\n",
            "Epoch 34/300\n",
            "14/14 [==============================] - 5s 333ms/step - loss: 8.2506e-05 - acc: 1.0000 - val_loss: 5.2513e-04 - val_acc: 1.0000\n",
            "Epoch 35/300\n",
            "14/14 [==============================] - 5s 333ms/step - loss: 7.5871e-05 - acc: 1.0000 - val_loss: 3.5507e-04 - val_acc: 1.0000\n",
            "Epoch 36/300\n",
            "14/14 [==============================] - 5s 333ms/step - loss: 7.6499e-05 - acc: 1.0000 - val_loss: 2.7951e-04 - val_acc: 1.0000\n",
            "Epoch 37/300\n",
            "14/14 [==============================] - 5s 332ms/step - loss: 7.7375e-05 - acc: 1.0000 - val_loss: 2.3904e-04 - val_acc: 1.0000\n",
            "Epoch 38/300\n",
            "14/14 [==============================] - 5s 333ms/step - loss: 7.7397e-05 - acc: 1.0000 - val_loss: 1.8406e-04 - val_acc: 1.0000\n",
            "Epoch 39/300\n",
            "14/14 [==============================] - 5s 333ms/step - loss: 7.0365e-05 - acc: 1.0000 - val_loss: 1.7464e-04 - val_acc: 1.0000\n",
            "Epoch 40/300\n",
            "14/14 [==============================] - 5s 333ms/step - loss: 6.2450e-05 - acc: 1.0000 - val_loss: 1.4892e-04 - val_acc: 1.0000\n",
            "Epoch 41/300\n",
            "14/14 [==============================] - 5s 333ms/step - loss: 6.4490e-05 - acc: 1.0000 - val_loss: 1.4204e-04 - val_acc: 1.0000\n",
            "Epoch 42/300\n",
            "14/14 [==============================] - 5s 333ms/step - loss: 6.8203e-05 - acc: 1.0000 - val_loss: 1.3959e-04 - val_acc: 1.0000\n",
            "Epoch 43/300\n",
            "14/14 [==============================] - 5s 333ms/step - loss: 6.3382e-05 - acc: 1.0000 - val_loss: 1.2832e-04 - val_acc: 1.0000\n",
            "Epoch 44/300\n",
            "14/14 [==============================] - 5s 334ms/step - loss: 6.3188e-05 - acc: 1.0000 - val_loss: 1.1926e-04 - val_acc: 1.0000\n",
            "Epoch 45/300\n",
            "14/14 [==============================] - 5s 333ms/step - loss: 5.7796e-05 - acc: 1.0000 - val_loss: 1.1325e-04 - val_acc: 1.0000\n",
            "Epoch 46/300\n",
            "14/14 [==============================] - 5s 333ms/step - loss: 6.2906e-05 - acc: 1.0000 - val_loss: 1.0929e-04 - val_acc: 1.0000\n",
            "Epoch 47/300\n",
            "14/14 [==============================] - 5s 333ms/step - loss: 5.2498e-05 - acc: 1.0000 - val_loss: 1.0675e-04 - val_acc: 1.0000\n",
            "Epoch 48/300\n",
            "14/14 [==============================] - 5s 333ms/step - loss: 5.1711e-05 - acc: 1.0000 - val_loss: 1.0450e-04 - val_acc: 1.0000\n",
            "Epoch 49/300\n",
            "14/14 [==============================] - 5s 333ms/step - loss: 5.6717e-05 - acc: 1.0000 - val_loss: 1.0322e-04 - val_acc: 1.0000\n",
            "Epoch 50/300\n",
            "14/14 [==============================] - 5s 333ms/step - loss: 4.7466e-05 - acc: 1.0000 - val_loss: 1.0050e-04 - val_acc: 1.0000\n",
            "Epoch 51/300\n",
            "14/14 [==============================] - 5s 333ms/step - loss: 4.9979e-05 - acc: 1.0000 - val_loss: 9.7649e-05 - val_acc: 1.0000\n",
            "Epoch 52/300\n",
            "14/14 [==============================] - 5s 333ms/step - loss: 5.2395e-05 - acc: 1.0000 - val_loss: 9.5776e-05 - val_acc: 1.0000\n",
            "Epoch 53/300\n",
            "14/14 [==============================] - 5s 333ms/step - loss: 4.6879e-05 - acc: 1.0000 - val_loss: 9.3963e-05 - val_acc: 1.0000\n",
            "Epoch 54/300\n",
            "14/14 [==============================] - 5s 333ms/step - loss: 4.8358e-05 - acc: 1.0000 - val_loss: 1.0124e-04 - val_acc: 1.0000\n",
            "Epoch 55/300\n",
            "14/14 [==============================] - 5s 333ms/step - loss: 4.5592e-05 - acc: 1.0000 - val_loss: 8.9724e-05 - val_acc: 1.0000\n",
            "Epoch 56/300\n",
            "14/14 [==============================] - 5s 333ms/step - loss: 4.8089e-05 - acc: 1.0000 - val_loss: 8.8179e-05 - val_acc: 1.0000\n",
            "Epoch 57/300\n",
            "14/14 [==============================] - 5s 333ms/step - loss: 4.5677e-05 - acc: 1.0000 - val_loss: 8.6549e-05 - val_acc: 1.0000\n",
            "Epoch 58/300\n",
            "14/14 [==============================] - 5s 333ms/step - loss: 4.5221e-05 - acc: 1.0000 - val_loss: 8.2466e-05 - val_acc: 1.0000\n",
            "Epoch 59/300\n",
            "14/14 [==============================] - 5s 333ms/step - loss: 4.2940e-05 - acc: 1.0000 - val_loss: 8.2727e-05 - val_acc: 1.0000\n",
            "Epoch 60/300\n",
            "14/14 [==============================] - 5s 333ms/step - loss: 3.8683e-05 - acc: 1.0000 - val_loss: 9.5227e-05 - val_acc: 1.0000\n",
            "Epoch 61/300\n",
            "14/14 [==============================] - 5s 333ms/step - loss: 4.0343e-05 - acc: 1.0000 - val_loss: 7.8708e-05 - val_acc: 1.0000\n",
            "Epoch 62/300\n",
            "14/14 [==============================] - 5s 333ms/step - loss: 3.6093e-05 - acc: 1.0000 - val_loss: 7.5833e-05 - val_acc: 1.0000\n",
            "Epoch 63/300\n",
            "14/14 [==============================] - 5s 333ms/step - loss: 4.2764e-05 - acc: 1.0000 - val_loss: 7.4209e-05 - val_acc: 1.0000\n",
            "Epoch 64/300\n",
            "14/14 [==============================] - 5s 333ms/step - loss: 3.2688e-05 - acc: 1.0000 - val_loss: 7.2088e-05 - val_acc: 1.0000\n",
            "Epoch 65/300\n",
            "14/14 [==============================] - 5s 334ms/step - loss: 3.5560e-05 - acc: 1.0000 - val_loss: 7.0928e-05 - val_acc: 1.0000\n",
            "Epoch 66/300\n",
            "14/14 [==============================] - 5s 333ms/step - loss: 3.3121e-05 - acc: 1.0000 - val_loss: 7.0595e-05 - val_acc: 1.0000\n",
            "Epoch 67/300\n",
            "14/14 [==============================] - 5s 333ms/step - loss: 3.5583e-05 - acc: 1.0000 - val_loss: 7.1614e-05 - val_acc: 1.0000\n",
            "Epoch 68/300\n",
            "14/14 [==============================] - 5s 333ms/step - loss: 3.2384e-05 - acc: 1.0000 - val_loss: 6.9636e-05 - val_acc: 1.0000\n",
            "Epoch 69/300\n",
            "14/14 [==============================] - 5s 333ms/step - loss: 3.8898e-05 - acc: 1.0000 - val_loss: 6.8876e-05 - val_acc: 1.0000\n",
            "Epoch 70/300\n",
            "14/14 [==============================] - 5s 333ms/step - loss: 3.8993e-05 - acc: 1.0000 - val_loss: 6.7995e-05 - val_acc: 1.0000\n",
            "Epoch 71/300\n",
            "14/14 [==============================] - 5s 333ms/step - loss: 3.1492e-05 - acc: 1.0000 - val_loss: 6.5642e-05 - val_acc: 1.0000\n",
            "Epoch 72/300\n",
            "14/14 [==============================] - 5s 333ms/step - loss: 2.7621e-05 - acc: 1.0000 - val_loss: 6.4047e-05 - val_acc: 1.0000\n",
            "Epoch 73/300\n",
            "14/14 [==============================] - 5s 333ms/step - loss: 3.0844e-05 - acc: 1.0000 - val_loss: 6.2499e-05 - val_acc: 1.0000\n",
            "Epoch 74/300\n",
            "14/14 [==============================] - 5s 333ms/step - loss: 2.9354e-05 - acc: 1.0000 - val_loss: 6.0933e-05 - val_acc: 1.0000\n",
            "Epoch 75/300\n",
            "14/14 [==============================] - 5s 333ms/step - loss: 3.8550e-05 - acc: 1.0000 - val_loss: 6.0078e-05 - val_acc: 1.0000\n",
            "Epoch 76/300\n",
            "14/14 [==============================] - 5s 333ms/step - loss: 2.8728e-05 - acc: 1.0000 - val_loss: 5.9421e-05 - val_acc: 1.0000\n",
            "Epoch 77/300\n",
            "14/14 [==============================] - 5s 333ms/step - loss: 2.6973e-05 - acc: 1.0000 - val_loss: 6.0658e-05 - val_acc: 1.0000\n",
            "Epoch 78/300\n",
            "14/14 [==============================] - 5s 333ms/step - loss: 2.4988e-05 - acc: 1.0000 - val_loss: 6.3053e-05 - val_acc: 1.0000\n",
            "Epoch 79/300\n",
            "14/14 [==============================] - 5s 333ms/step - loss: 3.2692e-05 - acc: 1.0000 - val_loss: 5.8707e-05 - val_acc: 1.0000\n",
            "Epoch 80/300\n",
            "14/14 [==============================] - 5s 333ms/step - loss: 3.0957e-05 - acc: 1.0000 - val_loss: 5.5342e-05 - val_acc: 1.0000\n",
            "Epoch 81/300\n",
            "14/14 [==============================] - 5s 333ms/step - loss: 2.5293e-05 - acc: 1.0000 - val_loss: 5.4951e-05 - val_acc: 1.0000\n",
            "Epoch 82/300\n",
            "14/14 [==============================] - 5s 333ms/step - loss: 2.6746e-05 - acc: 1.0000 - val_loss: 5.3084e-05 - val_acc: 1.0000\n",
            "Epoch 83/300\n",
            "14/14 [==============================] - 5s 333ms/step - loss: 2.4482e-05 - acc: 1.0000 - val_loss: 5.1991e-05 - val_acc: 1.0000\n",
            "Epoch 84/300\n",
            "14/14 [==============================] - 5s 333ms/step - loss: 2.3026e-05 - acc: 1.0000 - val_loss: 5.1237e-05 - val_acc: 1.0000\n",
            "Epoch 85/300\n",
            "14/14 [==============================] - 5s 333ms/step - loss: 2.6322e-05 - acc: 1.0000 - val_loss: 5.0329e-05 - val_acc: 1.0000\n",
            "Epoch 86/300\n",
            "14/14 [==============================] - 5s 333ms/step - loss: 2.3215e-05 - acc: 1.0000 - val_loss: 5.0240e-05 - val_acc: 1.0000\n",
            "Epoch 87/300\n",
            "14/14 [==============================] - 5s 333ms/step - loss: 2.3303e-05 - acc: 1.0000 - val_loss: 4.9526e-05 - val_acc: 1.0000\n",
            "Epoch 88/300\n",
            "14/14 [==============================] - 5s 333ms/step - loss: 2.3653e-05 - acc: 1.0000 - val_loss: 5.0188e-05 - val_acc: 1.0000\n",
            "Epoch 89/300\n",
            "14/14 [==============================] - 5s 333ms/step - loss: 2.2540e-05 - acc: 1.0000 - val_loss: 4.8671e-05 - val_acc: 1.0000\n",
            "Epoch 90/300\n",
            "14/14 [==============================] - 5s 333ms/step - loss: 2.0355e-05 - acc: 1.0000 - val_loss: 4.7593e-05 - val_acc: 1.0000\n",
            "Epoch 91/300\n",
            "14/14 [==============================] - 5s 333ms/step - loss: 1.9307e-05 - acc: 1.0000 - val_loss: 4.7198e-05 - val_acc: 1.0000\n",
            "Epoch 92/300\n",
            "14/14 [==============================] - 5s 333ms/step - loss: 2.1404e-05 - acc: 1.0000 - val_loss: 4.6525e-05 - val_acc: 1.0000\n",
            "Epoch 93/300\n",
            "14/14 [==============================] - 5s 333ms/step - loss: 2.0988e-05 - acc: 1.0000 - val_loss: 4.6147e-05 - val_acc: 1.0000\n",
            "Epoch 94/300\n",
            "14/14 [==============================] - 5s 332ms/step - loss: 1.8752e-05 - acc: 1.0000 - val_loss: 4.6193e-05 - val_acc: 1.0000\n",
            "Epoch 95/300\n",
            "14/14 [==============================] - 5s 333ms/step - loss: 1.8464e-05 - acc: 1.0000 - val_loss: 4.5006e-05 - val_acc: 1.0000\n",
            "Epoch 96/300\n",
            "14/14 [==============================] - 5s 333ms/step - loss: 1.9867e-05 - acc: 1.0000 - val_loss: 4.4458e-05 - val_acc: 1.0000\n",
            "Epoch 97/300\n",
            "14/14 [==============================] - 5s 333ms/step - loss: 1.9213e-05 - acc: 1.0000 - val_loss: 4.4147e-05 - val_acc: 1.0000\n",
            "Epoch 98/300\n",
            "14/14 [==============================] - 5s 333ms/step - loss: 2.5780e-05 - acc: 1.0000 - val_loss: 4.3269e-05 - val_acc: 1.0000\n",
            "Epoch 99/300\n",
            "14/14 [==============================] - 5s 333ms/step - loss: 1.8557e-05 - acc: 1.0000 - val_loss: 4.2022e-05 - val_acc: 1.0000\n",
            "Epoch 100/300\n",
            "14/14 [==============================] - 5s 333ms/step - loss: 2.2536e-05 - acc: 1.0000 - val_loss: 4.1689e-05 - val_acc: 1.0000\n",
            "Epoch 101/300\n",
            "14/14 [==============================] - 5s 333ms/step - loss: 1.7247e-05 - acc: 1.0000 - val_loss: 4.1602e-05 - val_acc: 1.0000\n",
            "Epoch 102/300\n",
            "14/14 [==============================] - 5s 333ms/step - loss: 1.9786e-05 - acc: 1.0000 - val_loss: 4.0670e-05 - val_acc: 1.0000\n",
            "Epoch 103/300\n",
            "14/14 [==============================] - 5s 333ms/step - loss: 1.7914e-05 - acc: 1.0000 - val_loss: 4.0240e-05 - val_acc: 1.0000\n",
            "Epoch 104/300\n",
            "14/14 [==============================] - 5s 334ms/step - loss: 2.0683e-05 - acc: 1.0000 - val_loss: 3.9840e-05 - val_acc: 1.0000\n",
            "Epoch 105/300\n",
            "14/14 [==============================] - 5s 333ms/step - loss: 1.6464e-05 - acc: 1.0000 - val_loss: 3.9174e-05 - val_acc: 1.0000\n",
            "Epoch 106/300\n",
            "14/14 [==============================] - 5s 333ms/step - loss: 1.6441e-05 - acc: 1.0000 - val_loss: 3.8831e-05 - val_acc: 1.0000\n",
            "Epoch 107/300\n",
            "14/14 [==============================] - 5s 333ms/step - loss: 1.5820e-05 - acc: 1.0000 - val_loss: 3.8108e-05 - val_acc: 1.0000\n",
            "Epoch 108/300\n",
            "14/14 [==============================] - 5s 333ms/step - loss: 1.8253e-05 - acc: 1.0000 - val_loss: 3.7781e-05 - val_acc: 1.0000\n",
            "Epoch 109/300\n",
            "14/14 [==============================] - 5s 333ms/step - loss: 1.8648e-05 - acc: 1.0000 - val_loss: 3.7390e-05 - val_acc: 1.0000\n",
            "Epoch 110/300\n",
            "14/14 [==============================] - 5s 333ms/step - loss: 1.6416e-05 - acc: 1.0000 - val_loss: 3.6600e-05 - val_acc: 1.0000\n",
            "Epoch 111/300\n",
            "14/14 [==============================] - 5s 333ms/step - loss: 1.4883e-05 - acc: 1.0000 - val_loss: 3.6500e-05 - val_acc: 1.0000\n",
            "Epoch 112/300\n",
            "14/14 [==============================] - 5s 333ms/step - loss: 1.7958e-05 - acc: 1.0000 - val_loss: 3.6793e-05 - val_acc: 1.0000\n",
            "Epoch 113/300\n",
            "14/14 [==============================] - 5s 333ms/step - loss: 1.7360e-05 - acc: 1.0000 - val_loss: 3.5721e-05 - val_acc: 1.0000\n",
            "Epoch 114/300\n",
            "14/14 [==============================] - 5s 333ms/step - loss: 1.3871e-05 - acc: 1.0000 - val_loss: 3.5112e-05 - val_acc: 1.0000\n",
            "Epoch 115/300\n",
            "14/14 [==============================] - 5s 333ms/step - loss: 1.6161e-05 - acc: 1.0000 - val_loss: 3.4959e-05 - val_acc: 1.0000\n",
            "Epoch 116/300\n",
            "14/14 [==============================] - 5s 333ms/step - loss: 1.3998e-05 - acc: 1.0000 - val_loss: 3.4883e-05 - val_acc: 1.0000\n",
            "Epoch 117/300\n",
            "14/14 [==============================] - 5s 333ms/step - loss: 1.5108e-05 - acc: 1.0000 - val_loss: 3.4476e-05 - val_acc: 1.0000\n",
            "Epoch 118/300\n",
            "14/14 [==============================] - 5s 333ms/step - loss: 1.8218e-05 - acc: 1.0000 - val_loss: 3.4259e-05 - val_acc: 1.0000\n",
            "Epoch 119/300\n",
            "14/14 [==============================] - 5s 333ms/step - loss: 1.5951e-05 - acc: 1.0000 - val_loss: 3.3680e-05 - val_acc: 1.0000\n",
            "Epoch 120/300\n",
            "14/14 [==============================] - 5s 333ms/step - loss: 1.2420e-05 - acc: 1.0000 - val_loss: 3.3242e-05 - val_acc: 1.0000\n",
            "Epoch 121/300\n",
            "14/14 [==============================] - 5s 333ms/step - loss: 1.6978e-05 - acc: 1.0000 - val_loss: 3.2874e-05 - val_acc: 1.0000\n",
            "Epoch 122/300\n",
            "14/14 [==============================] - 5s 333ms/step - loss: 1.4263e-05 - acc: 1.0000 - val_loss: 3.2285e-05 - val_acc: 1.0000\n",
            "Epoch 123/300\n",
            "14/14 [==============================] - 5s 333ms/step - loss: 1.6129e-05 - acc: 1.0000 - val_loss: 3.1459e-05 - val_acc: 1.0000\n",
            "Epoch 124/300\n",
            "14/14 [==============================] - 5s 333ms/step - loss: 1.3817e-05 - acc: 1.0000 - val_loss: 3.1967e-05 - val_acc: 1.0000\n",
            "Epoch 125/300\n",
            "14/14 [==============================] - 5s 333ms/step - loss: 1.2992e-05 - acc: 1.0000 - val_loss: 3.1954e-05 - val_acc: 1.0000\n",
            "Epoch 126/300\n",
            "14/14 [==============================] - 5s 333ms/step - loss: 1.4277e-05 - acc: 1.0000 - val_loss: 3.0911e-05 - val_acc: 1.0000\n",
            "Epoch 127/300\n",
            "14/14 [==============================] - 5s 333ms/step - loss: 1.1364e-05 - acc: 1.0000 - val_loss: 3.0243e-05 - val_acc: 1.0000\n",
            "Epoch 128/300\n",
            "14/14 [==============================] - 5s 333ms/step - loss: 1.4008e-05 - acc: 1.0000 - val_loss: 2.9993e-05 - val_acc: 1.0000\n",
            "Epoch 129/300\n",
            "14/14 [==============================] - 5s 333ms/step - loss: 1.6741e-05 - acc: 1.0000 - val_loss: 2.9720e-05 - val_acc: 1.0000\n",
            "Epoch 130/300\n",
            "14/14 [==============================] - 5s 333ms/step - loss: 1.2439e-05 - acc: 1.0000 - val_loss: 2.8986e-05 - val_acc: 1.0000\n",
            "Epoch 131/300\n",
            "14/14 [==============================] - 5s 333ms/step - loss: 1.1114e-05 - acc: 1.0000 - val_loss: 2.8767e-05 - val_acc: 1.0000\n",
            "Epoch 132/300\n",
            "14/14 [==============================] - 5s 333ms/step - loss: 1.1519e-05 - acc: 1.0000 - val_loss: 2.8544e-05 - val_acc: 1.0000\n",
            "Epoch 133/300\n",
            "14/14 [==============================] - 5s 333ms/step - loss: 1.1010e-05 - acc: 1.0000 - val_loss: 2.8193e-05 - val_acc: 1.0000\n",
            "Epoch 134/300\n",
            "14/14 [==============================] - 5s 333ms/step - loss: 1.1232e-05 - acc: 1.0000 - val_loss: 2.8036e-05 - val_acc: 1.0000\n",
            "Epoch 135/300\n",
            "14/14 [==============================] - 5s 333ms/step - loss: 1.1981e-05 - acc: 1.0000 - val_loss: 2.7701e-05 - val_acc: 1.0000\n",
            "Epoch 136/300\n",
            "14/14 [==============================] - 5s 333ms/step - loss: 1.3011e-05 - acc: 1.0000 - val_loss: 2.7551e-05 - val_acc: 1.0000\n",
            "Epoch 137/300\n",
            "14/14 [==============================] - 5s 333ms/step - loss: 1.1574e-05 - acc: 1.0000 - val_loss: 2.7681e-05 - val_acc: 1.0000\n",
            "Epoch 138/300\n",
            "14/14 [==============================] - 5s 333ms/step - loss: 1.7605e-05 - acc: 1.0000 - val_loss: 2.7564e-05 - val_acc: 1.0000\n",
            "Epoch 139/300\n",
            "14/14 [==============================] - 5s 333ms/step - loss: 1.1345e-05 - acc: 1.0000 - val_loss: 2.9390e-05 - val_acc: 1.0000\n",
            "Epoch 140/300\n",
            "14/14 [==============================] - 5s 333ms/step - loss: 1.3981e-05 - acc: 1.0000 - val_loss: 2.7697e-05 - val_acc: 1.0000\n",
            "Epoch 141/300\n",
            "14/14 [==============================] - 5s 333ms/step - loss: 1.0223e-05 - acc: 1.0000 - val_loss: 2.6667e-05 - val_acc: 1.0000\n",
            "Epoch 142/300\n",
            "14/14 [==============================] - 5s 333ms/step - loss: 1.0198e-05 - acc: 1.0000 - val_loss: 2.5888e-05 - val_acc: 1.0000\n",
            "Epoch 143/300\n",
            "14/14 [==============================] - 5s 333ms/step - loss: 1.1801e-05 - acc: 1.0000 - val_loss: 2.5607e-05 - val_acc: 1.0000\n",
            "Epoch 144/300\n",
            "14/14 [==============================] - 5s 333ms/step - loss: 1.3077e-05 - acc: 1.0000 - val_loss: 2.5168e-05 - val_acc: 1.0000\n",
            "Epoch 145/300\n",
            "14/14 [==============================] - 5s 333ms/step - loss: 9.7507e-06 - acc: 1.0000 - val_loss: 2.5051e-05 - val_acc: 1.0000\n",
            "Epoch 146/300\n",
            "14/14 [==============================] - 5s 333ms/step - loss: 9.9532e-06 - acc: 1.0000 - val_loss: 2.4909e-05 - val_acc: 1.0000\n",
            "Epoch 147/300\n",
            "14/14 [==============================] - 5s 333ms/step - loss: 9.4605e-06 - acc: 1.0000 - val_loss: 2.4741e-05 - val_acc: 1.0000\n",
            "Epoch 148/300\n",
            "14/14 [==============================] - 5s 333ms/step - loss: 1.2681e-05 - acc: 1.0000 - val_loss: 2.4435e-05 - val_acc: 1.0000\n",
            "Epoch 149/300\n",
            "14/14 [==============================] - 5s 333ms/step - loss: 1.2318e-05 - acc: 1.0000 - val_loss: 2.4252e-05 - val_acc: 1.0000\n",
            "Epoch 150/300\n",
            "14/14 [==============================] - 5s 333ms/step - loss: 9.3797e-06 - acc: 1.0000 - val_loss: 2.4071e-05 - val_acc: 1.0000\n",
            "Epoch 151/300\n",
            "14/14 [==============================] - 5s 333ms/step - loss: 1.1970e-05 - acc: 1.0000 - val_loss: 2.4031e-05 - val_acc: 1.0000\n",
            "Epoch 152/300\n",
            "14/14 [==============================] - 5s 333ms/step - loss: 9.4881e-06 - acc: 1.0000 - val_loss: 2.3693e-05 - val_acc: 1.0000\n",
            "Epoch 153/300\n",
            "14/14 [==============================] - 5s 333ms/step - loss: 1.0178e-05 - acc: 1.0000 - val_loss: 2.3288e-05 - val_acc: 1.0000\n",
            "Epoch 154/300\n",
            "14/14 [==============================] - 5s 333ms/step - loss: 1.1682e-05 - acc: 1.0000 - val_loss: 2.2921e-05 - val_acc: 1.0000\n",
            "Epoch 155/300\n",
            "14/14 [==============================] - 5s 333ms/step - loss: 7.9469e-06 - acc: 1.0000 - val_loss: 2.2915e-05 - val_acc: 1.0000\n",
            "Epoch 156/300\n",
            "14/14 [==============================] - 5s 332ms/step - loss: 8.5392e-06 - acc: 1.0000 - val_loss: 2.2646e-05 - val_acc: 1.0000\n",
            "Epoch 157/300\n",
            "14/14 [==============================] - 5s 333ms/step - loss: 8.0287e-06 - acc: 1.0000 - val_loss: 2.2505e-05 - val_acc: 1.0000\n",
            "Epoch 158/300\n",
            "14/14 [==============================] - 5s 333ms/step - loss: 1.0926e-05 - acc: 1.0000 - val_loss: 2.2246e-05 - val_acc: 1.0000\n",
            "Epoch 159/300\n",
            "14/14 [==============================] - 5s 333ms/step - loss: 8.4798e-06 - acc: 1.0000 - val_loss: 2.1924e-05 - val_acc: 1.0000\n",
            "Epoch 160/300\n",
            "14/14 [==============================] - 5s 333ms/step - loss: 7.9273e-06 - acc: 1.0000 - val_loss: 2.1746e-05 - val_acc: 1.0000\n",
            "Epoch 161/300\n",
            "14/14 [==============================] - 5s 333ms/step - loss: 8.3296e-06 - acc: 1.0000 - val_loss: 2.1409e-05 - val_acc: 1.0000\n",
            "Epoch 162/300\n",
            "14/14 [==============================] - 5s 333ms/step - loss: 9.4041e-06 - acc: 1.0000 - val_loss: 2.1228e-05 - val_acc: 1.0000\n",
            "Epoch 163/300\n",
            "14/14 [==============================] - 5s 333ms/step - loss: 7.7796e-06 - acc: 1.0000 - val_loss: 2.1281e-05 - val_acc: 1.0000\n",
            "Epoch 164/300\n",
            "14/14 [==============================] - 5s 333ms/step - loss: 9.2891e-06 - acc: 1.0000 - val_loss: 2.1049e-05 - val_acc: 1.0000\n",
            "Epoch 165/300\n",
            "14/14 [==============================] - 5s 333ms/step - loss: 9.1025e-06 - acc: 1.0000 - val_loss: 2.0695e-05 - val_acc: 1.0000\n",
            "Epoch 166/300\n",
            "14/14 [==============================] - 5s 333ms/step - loss: 7.8195e-06 - acc: 1.0000 - val_loss: 2.0545e-05 - val_acc: 1.0000\n",
            "Epoch 167/300\n",
            "14/14 [==============================] - 5s 333ms/step - loss: 8.7856e-06 - acc: 1.0000 - val_loss: 2.0397e-05 - val_acc: 1.0000\n",
            "Epoch 168/300\n",
            "14/14 [==============================] - 5s 333ms/step - loss: 1.0372e-05 - acc: 1.0000 - val_loss: 2.0413e-05 - val_acc: 1.0000\n",
            "Epoch 169/300\n",
            "14/14 [==============================] - 5s 333ms/step - loss: 1.0956e-05 - acc: 1.0000 - val_loss: 2.0411e-05 - val_acc: 1.0000\n",
            "Epoch 170/300\n",
            "14/14 [==============================] - 5s 333ms/step - loss: 8.5723e-06 - acc: 1.0000 - val_loss: 2.0711e-05 - val_acc: 1.0000\n",
            "Epoch 171/300\n",
            "14/14 [==============================] - 5s 333ms/step - loss: 6.7057e-06 - acc: 1.0000 - val_loss: 2.0307e-05 - val_acc: 1.0000\n",
            "Epoch 172/300\n",
            "14/14 [==============================] - 5s 333ms/step - loss: 6.5232e-06 - acc: 1.0000 - val_loss: 1.9882e-05 - val_acc: 1.0000\n",
            "Epoch 173/300\n",
            "14/14 [==============================] - 5s 333ms/step - loss: 8.4612e-06 - acc: 1.0000 - val_loss: 1.9637e-05 - val_acc: 1.0000\n",
            "Epoch 174/300\n",
            "14/14 [==============================] - 5s 333ms/step - loss: 6.5217e-06 - acc: 1.0000 - val_loss: 1.9546e-05 - val_acc: 1.0000\n",
            "Epoch 175/300\n",
            "14/14 [==============================] - 5s 333ms/step - loss: 6.5486e-06 - acc: 1.0000 - val_loss: 1.9335e-05 - val_acc: 1.0000\n",
            "Epoch 176/300\n",
            "14/14 [==============================] - 5s 333ms/step - loss: 7.2159e-06 - acc: 1.0000 - val_loss: 1.9080e-05 - val_acc: 1.0000\n",
            "Epoch 177/300\n",
            "14/14 [==============================] - 5s 333ms/step - loss: 7.2017e-06 - acc: 1.0000 - val_loss: 1.8973e-05 - val_acc: 1.0000\n",
            "Epoch 178/300\n",
            "14/14 [==============================] - 5s 333ms/step - loss: 8.4634e-06 - acc: 1.0000 - val_loss: 1.8872e-05 - val_acc: 1.0000\n",
            "Epoch 179/300\n",
            "14/14 [==============================] - 5s 333ms/step - loss: 6.9902e-06 - acc: 1.0000 - val_loss: 1.8561e-05 - val_acc: 1.0000\n",
            "Epoch 180/300\n",
            "14/14 [==============================] - 5s 333ms/step - loss: 6.9446e-06 - acc: 1.0000 - val_loss: 1.8285e-05 - val_acc: 1.0000\n",
            "Epoch 181/300\n",
            "14/14 [==============================] - 5s 333ms/step - loss: 7.0476e-06 - acc: 1.0000 - val_loss: 1.7996e-05 - val_acc: 1.0000\n",
            "Epoch 182/300\n",
            "14/14 [==============================] - 5s 333ms/step - loss: 7.6486e-06 - acc: 1.0000 - val_loss: 1.7863e-05 - val_acc: 1.0000\n",
            "Epoch 183/300\n",
            "14/14 [==============================] - 5s 333ms/step - loss: 6.6089e-06 - acc: 1.0000 - val_loss: 1.7776e-05 - val_acc: 1.0000\n",
            "Epoch 184/300\n",
            "14/14 [==============================] - 5s 333ms/step - loss: 6.2239e-06 - acc: 1.0000 - val_loss: 1.7593e-05 - val_acc: 1.0000\n",
            "Epoch 185/300\n",
            "14/14 [==============================] - 5s 333ms/step - loss: 6.2663e-06 - acc: 1.0000 - val_loss: 1.7388e-05 - val_acc: 1.0000\n",
            "Epoch 186/300\n",
            "14/14 [==============================] - 5s 333ms/step - loss: 6.8590e-06 - acc: 1.0000 - val_loss: 1.7243e-05 - val_acc: 1.0000\n",
            "Epoch 187/300\n",
            "14/14 [==============================] - 5s 333ms/step - loss: 6.7251e-06 - acc: 1.0000 - val_loss: 1.7171e-05 - val_acc: 1.0000\n",
            "Epoch 188/300\n",
            "14/14 [==============================] - 5s 333ms/step - loss: 7.6444e-06 - acc: 1.0000 - val_loss: 1.6985e-05 - val_acc: 1.0000\n",
            "Epoch 189/300\n",
            "14/14 [==============================] - 5s 333ms/step - loss: 5.1438e-06 - acc: 1.0000 - val_loss: 1.6942e-05 - val_acc: 1.0000\n",
            "Epoch 190/300\n",
            "14/14 [==============================] - 5s 333ms/step - loss: 6.4794e-06 - acc: 1.0000 - val_loss: 1.6750e-05 - val_acc: 1.0000\n",
            "Epoch 191/300\n",
            "14/14 [==============================] - 5s 333ms/step - loss: 6.9344e-06 - acc: 1.0000 - val_loss: 1.6553e-05 - val_acc: 1.0000\n",
            "Epoch 192/300\n",
            "14/14 [==============================] - 5s 333ms/step - loss: 5.8119e-06 - acc: 1.0000 - val_loss: 1.6393e-05 - val_acc: 1.0000\n",
            "Epoch 193/300\n",
            "14/14 [==============================] - 5s 334ms/step - loss: 5.6773e-06 - acc: 1.0000 - val_loss: 1.6380e-05 - val_acc: 1.0000\n",
            "Epoch 194/300\n",
            "14/14 [==============================] - 5s 333ms/step - loss: 7.0160e-06 - acc: 1.0000 - val_loss: 1.6332e-05 - val_acc: 1.0000\n",
            "Epoch 195/300\n",
            "14/14 [==============================] - 5s 333ms/step - loss: 6.0868e-06 - acc: 1.0000 - val_loss: 1.6138e-05 - val_acc: 1.0000\n",
            "Epoch 196/300\n",
            "14/14 [==============================] - 5s 333ms/step - loss: 5.5803e-06 - acc: 1.0000 - val_loss: 1.6015e-05 - val_acc: 1.0000\n",
            "Epoch 197/300\n",
            "14/14 [==============================] - 5s 333ms/step - loss: 7.8406e-06 - acc: 1.0000 - val_loss: 1.5888e-05 - val_acc: 1.0000\n",
            "Epoch 198/300\n",
            "14/14 [==============================] - 5s 333ms/step - loss: 5.4698e-06 - acc: 1.0000 - val_loss: 1.6336e-05 - val_acc: 1.0000\n",
            "Epoch 199/300\n",
            "14/14 [==============================] - 5s 333ms/step - loss: 7.0694e-06 - acc: 1.0000 - val_loss: 1.5502e-05 - val_acc: 1.0000\n",
            "Epoch 200/300\n",
            "14/14 [==============================] - 5s 333ms/step - loss: 5.5129e-06 - acc: 1.0000 - val_loss: 1.5554e-05 - val_acc: 1.0000\n",
            "Epoch 201/300\n",
            "14/14 [==============================] - 5s 332ms/step - loss: 5.9983e-06 - acc: 1.0000 - val_loss: 1.5253e-05 - val_acc: 1.0000\n",
            "Epoch 202/300\n",
            "14/14 [==============================] - 5s 333ms/step - loss: 6.2110e-06 - acc: 1.0000 - val_loss: 1.5119e-05 - val_acc: 1.0000\n",
            "Epoch 203/300\n",
            "14/14 [==============================] - 5s 333ms/step - loss: 5.7561e-06 - acc: 1.0000 - val_loss: 1.4870e-05 - val_acc: 1.0000\n",
            "Epoch 204/300\n",
            "14/14 [==============================] - 5s 332ms/step - loss: 7.6675e-06 - acc: 1.0000 - val_loss: 1.4593e-05 - val_acc: 1.0000\n",
            "Epoch 205/300\n",
            "14/14 [==============================] - 5s 333ms/step - loss: 6.5548e-06 - acc: 1.0000 - val_loss: 1.3970e-05 - val_acc: 1.0000\n",
            "Epoch 206/300\n",
            "14/14 [==============================] - 5s 333ms/step - loss: 5.4874e-06 - acc: 1.0000 - val_loss: 1.4010e-05 - val_acc: 1.0000\n",
            "Epoch 207/300\n",
            "14/14 [==============================] - 5s 333ms/step - loss: 5.3009e-06 - acc: 1.0000 - val_loss: 1.3957e-05 - val_acc: 1.0000\n",
            "Epoch 208/300\n",
            "14/14 [==============================] - 5s 333ms/step - loss: 5.9041e-06 - acc: 1.0000 - val_loss: 1.4091e-05 - val_acc: 1.0000\n",
            "Epoch 209/300\n",
            "14/14 [==============================] - 5s 333ms/step - loss: 5.7658e-06 - acc: 1.0000 - val_loss: 1.4233e-05 - val_acc: 1.0000\n",
            "Epoch 210/300\n",
            "14/14 [==============================] - 5s 332ms/step - loss: 6.1045e-06 - acc: 1.0000 - val_loss: 1.4214e-05 - val_acc: 1.0000\n",
            "Epoch 211/300\n",
            "14/14 [==============================] - 5s 333ms/step - loss: 4.7570e-06 - acc: 1.0000 - val_loss: 1.4082e-05 - val_acc: 1.0000\n",
            "Epoch 212/300\n",
            "14/14 [==============================] - 5s 333ms/step - loss: 5.0484e-06 - acc: 1.0000 - val_loss: 1.4005e-05 - val_acc: 1.0000\n",
            "Epoch 213/300\n",
            "14/14 [==============================] - 5s 333ms/step - loss: 4.6207e-06 - acc: 1.0000 - val_loss: 1.3911e-05 - val_acc: 1.0000\n",
            "Epoch 214/300\n",
            "14/14 [==============================] - 5s 333ms/step - loss: 4.4856e-06 - acc: 1.0000 - val_loss: 1.3847e-05 - val_acc: 1.0000\n",
            "Epoch 215/300\n",
            "14/14 [==============================] - 5s 333ms/step - loss: 4.6287e-06 - acc: 1.0000 - val_loss: 1.3905e-05 - val_acc: 1.0000\n",
            "Epoch 216/300\n",
            "14/14 [==============================] - 5s 333ms/step - loss: 5.0976e-06 - acc: 1.0000 - val_loss: 1.3724e-05 - val_acc: 1.0000\n",
            "Epoch 217/300\n",
            "14/14 [==============================] - 5s 333ms/step - loss: 4.4379e-06 - acc: 1.0000 - val_loss: 1.3520e-05 - val_acc: 1.0000\n",
            "Epoch 218/300\n",
            "14/14 [==============================] - 5s 333ms/step - loss: 4.9741e-06 - acc: 1.0000 - val_loss: 1.3454e-05 - val_acc: 1.0000\n",
            "Epoch 219/300\n",
            "14/14 [==============================] - 5s 333ms/step - loss: 4.3969e-06 - acc: 1.0000 - val_loss: 1.3418e-05 - val_acc: 1.0000\n",
            "Epoch 220/300\n",
            "14/14 [==============================] - 5s 333ms/step - loss: 5.7224e-06 - acc: 1.0000 - val_loss: 1.3208e-05 - val_acc: 1.0000\n",
            "Epoch 221/300\n",
            "14/14 [==============================] - 5s 333ms/step - loss: 4.6340e-06 - acc: 1.0000 - val_loss: 1.3123e-05 - val_acc: 1.0000\n",
            "Epoch 222/300\n",
            "14/14 [==============================] - 5s 333ms/step - loss: 5.5393e-06 - acc: 1.0000 - val_loss: 1.3004e-05 - val_acc: 1.0000\n",
            "Epoch 223/300\n",
            "14/14 [==============================] - 5s 333ms/step - loss: 4.2255e-06 - acc: 1.0000 - val_loss: 1.2913e-05 - val_acc: 1.0000\n",
            "Epoch 224/300\n",
            "14/14 [==============================] - 5s 333ms/step - loss: 4.5889e-06 - acc: 1.0000 - val_loss: 1.2701e-05 - val_acc: 1.0000\n",
            "Epoch 225/300\n",
            "14/14 [==============================] - 5s 333ms/step - loss: 4.4458e-06 - acc: 1.0000 - val_loss: 1.2562e-05 - val_acc: 1.0000\n",
            "Epoch 226/300\n",
            "14/14 [==============================] - 5s 333ms/step - loss: 4.0422e-06 - acc: 1.0000 - val_loss: 1.2493e-05 - val_acc: 1.0000\n",
            "Epoch 227/300\n",
            "14/14 [==============================] - 5s 333ms/step - loss: 5.0918e-06 - acc: 1.0000 - val_loss: 1.2300e-05 - val_acc: 1.0000\n",
            "Epoch 228/300\n",
            "14/14 [==============================] - 5s 333ms/step - loss: 4.0259e-06 - acc: 1.0000 - val_loss: 1.2232e-05 - val_acc: 1.0000\n",
            "Epoch 229/300\n",
            "14/14 [==============================] - 5s 333ms/step - loss: 4.5409e-06 - acc: 1.0000 - val_loss: 1.2318e-05 - val_acc: 1.0000\n",
            "Epoch 230/300\n",
            "14/14 [==============================] - 5s 333ms/step - loss: 6.5724e-06 - acc: 1.0000 - val_loss: 1.2316e-05 - val_acc: 1.0000\n",
            "Epoch 231/300\n",
            "14/14 [==============================] - 5s 333ms/step - loss: 4.5266e-06 - acc: 1.0000 - val_loss: 1.2232e-05 - val_acc: 1.0000\n",
            "Epoch 232/300\n",
            "14/14 [==============================] - 5s 333ms/step - loss: 3.7330e-06 - acc: 1.0000 - val_loss: 1.2021e-05 - val_acc: 1.0000\n",
            "Epoch 233/300\n",
            "14/14 [==============================] - 5s 333ms/step - loss: 3.9417e-06 - acc: 1.0000 - val_loss: 1.2022e-05 - val_acc: 1.0000\n",
            "Epoch 234/300\n",
            "14/14 [==============================] - 5s 333ms/step - loss: 4.2695e-06 - acc: 1.0000 - val_loss: 1.1980e-05 - val_acc: 1.0000\n",
            "Epoch 235/300\n",
            "14/14 [==============================] - 5s 333ms/step - loss: 4.2352e-06 - acc: 1.0000 - val_loss: 1.1825e-05 - val_acc: 1.0000\n",
            "Epoch 236/300\n",
            "14/14 [==============================] - 5s 333ms/step - loss: 6.0388e-06 - acc: 1.0000 - val_loss: 1.1822e-05 - val_acc: 1.0000\n",
            "Epoch 237/300\n",
            "14/14 [==============================] - 5s 333ms/step - loss: 5.2849e-06 - acc: 1.0000 - val_loss: 1.6189e-05 - val_acc: 1.0000\n",
            "Epoch 238/300\n",
            "14/14 [==============================] - 5s 333ms/step - loss: 4.7518e-06 - acc: 1.0000 - val_loss: 1.4464e-05 - val_acc: 1.0000\n",
            "Epoch 239/300\n",
            "14/14 [==============================] - 5s 333ms/step - loss: 3.7744e-06 - acc: 1.0000 - val_loss: 1.2941e-05 - val_acc: 1.0000\n",
            "Epoch 240/300\n",
            "14/14 [==============================] - 5s 333ms/step - loss: 3.9462e-06 - acc: 1.0000 - val_loss: 1.1958e-05 - val_acc: 1.0000\n",
            "Epoch 241/300\n",
            "14/14 [==============================] - 5s 333ms/step - loss: 4.2140e-06 - acc: 1.0000 - val_loss: 1.0849e-05 - val_acc: 1.0000\n",
            "Epoch 242/300\n",
            "14/14 [==============================] - 5s 333ms/step - loss: 4.6479e-06 - acc: 1.0000 - val_loss: 1.0702e-05 - val_acc: 1.0000\n",
            "Epoch 243/300\n",
            "14/14 [==============================] - 5s 333ms/step - loss: 3.4232e-06 - acc: 1.0000 - val_loss: 1.0415e-05 - val_acc: 1.0000\n",
            "Epoch 244/300\n",
            "14/14 [==============================] - 5s 333ms/step - loss: 4.1163e-06 - acc: 1.0000 - val_loss: 1.0344e-05 - val_acc: 1.0000\n",
            "Epoch 245/300\n",
            "14/14 [==============================] - 5s 333ms/step - loss: 5.3195e-06 - acc: 1.0000 - val_loss: 1.0188e-05 - val_acc: 1.0000\n",
            "Epoch 246/300\n",
            "14/14 [==============================] - 5s 333ms/step - loss: 3.4674e-06 - acc: 1.0000 - val_loss: 9.8764e-06 - val_acc: 1.0000\n",
            "Epoch 247/300\n",
            "14/14 [==============================] - 5s 333ms/step - loss: 3.9922e-06 - acc: 1.0000 - val_loss: 9.9128e-06 - val_acc: 1.0000\n",
            "Epoch 248/300\n",
            "14/14 [==============================] - 5s 333ms/step - loss: 3.5350e-06 - acc: 1.0000 - val_loss: 1.0033e-05 - val_acc: 1.0000\n",
            "Epoch 249/300\n",
            "14/14 [==============================] - 5s 333ms/step - loss: 3.9552e-06 - acc: 1.0000 - val_loss: 1.0070e-05 - val_acc: 1.0000\n",
            "Epoch 250/300\n",
            "14/14 [==============================] - 5s 333ms/step - loss: 3.5356e-06 - acc: 1.0000 - val_loss: 9.9234e-06 - val_acc: 1.0000\n",
            "Epoch 251/300\n",
            "14/14 [==============================] - 5s 333ms/step - loss: 3.2406e-06 - acc: 1.0000 - val_loss: 9.7878e-06 - val_acc: 1.0000\n",
            "Epoch 252/300\n",
            "14/14 [==============================] - 5s 334ms/step - loss: 3.4289e-06 - acc: 1.0000 - val_loss: 9.7084e-06 - val_acc: 1.0000\n",
            "Epoch 253/300\n",
            "14/14 [==============================] - 5s 333ms/step - loss: 3.8130e-06 - acc: 1.0000 - val_loss: 9.5547e-06 - val_acc: 1.0000\n",
            "Epoch 254/300\n",
            "14/14 [==============================] - 5s 333ms/step - loss: 4.2555e-06 - acc: 1.0000 - val_loss: 9.5954e-06 - val_acc: 1.0000\n",
            "Epoch 255/300\n",
            "14/14 [==============================] - 5s 333ms/step - loss: 3.5579e-06 - acc: 1.0000 - val_loss: 9.8250e-06 - val_acc: 1.0000\n",
            "Epoch 256/300\n",
            "14/14 [==============================] - 5s 333ms/step - loss: 3.0257e-06 - acc: 1.0000 - val_loss: 9.5632e-06 - val_acc: 1.0000\n",
            "Epoch 257/300\n",
            "14/14 [==============================] - 5s 333ms/step - loss: 3.2261e-06 - acc: 1.0000 - val_loss: 9.3940e-06 - val_acc: 1.0000\n",
            "Epoch 258/300\n",
            "14/14 [==============================] - 5s 333ms/step - loss: 3.3022e-06 - acc: 1.0000 - val_loss: 9.3170e-06 - val_acc: 1.0000\n",
            "Epoch 259/300\n",
            "14/14 [==============================] - 5s 333ms/step - loss: 3.1577e-06 - acc: 1.0000 - val_loss: 9.2431e-06 - val_acc: 1.0000\n",
            "Epoch 260/300\n",
            "14/14 [==============================] - 5s 333ms/step - loss: 4.0264e-06 - acc: 1.0000 - val_loss: 9.2366e-06 - val_acc: 1.0000\n",
            "Epoch 261/300\n",
            "14/14 [==============================] - 5s 333ms/step - loss: 3.3815e-06 - acc: 1.0000 - val_loss: 9.0786e-06 - val_acc: 1.0000\n",
            "Epoch 262/300\n",
            "14/14 [==============================] - 5s 333ms/step - loss: 3.4044e-06 - acc: 1.0000 - val_loss: 9.0292e-06 - val_acc: 1.0000\n",
            "Epoch 263/300\n",
            "14/14 [==============================] - 5s 333ms/step - loss: 2.9182e-06 - acc: 1.0000 - val_loss: 8.9611e-06 - val_acc: 1.0000\n",
            "Epoch 264/300\n",
            "14/14 [==============================] - 5s 333ms/step - loss: 3.4611e-06 - acc: 1.0000 - val_loss: 8.8935e-06 - val_acc: 1.0000\n",
            "Epoch 265/300\n",
            "14/14 [==============================] - 5s 333ms/step - loss: 3.0413e-06 - acc: 1.0000 - val_loss: 8.8706e-06 - val_acc: 1.0000\n",
            "Epoch 266/300\n",
            "14/14 [==============================] - 5s 333ms/step - loss: 3.1279e-06 - acc: 1.0000 - val_loss: 8.8208e-06 - val_acc: 1.0000\n",
            "Epoch 267/300\n",
            "14/14 [==============================] - 5s 333ms/step - loss: 3.0700e-06 - acc: 1.0000 - val_loss: 8.8758e-06 - val_acc: 1.0000\n",
            "Epoch 268/300\n",
            "14/14 [==============================] - 5s 333ms/step - loss: 3.1053e-06 - acc: 1.0000 - val_loss: 8.8822e-06 - val_acc: 1.0000\n",
            "Epoch 269/300\n",
            "14/14 [==============================] - 5s 333ms/step - loss: 3.5211e-06 - acc: 1.0000 - val_loss: 8.8374e-06 - val_acc: 1.0000\n",
            "Epoch 270/300\n",
            "14/14 [==============================] - 5s 333ms/step - loss: 3.9102e-06 - acc: 1.0000 - val_loss: 8.7704e-06 - val_acc: 1.0000\n",
            "Epoch 271/300\n",
            "14/14 [==============================] - 5s 333ms/step - loss: 3.0330e-06 - acc: 1.0000 - val_loss: 9.3977e-06 - val_acc: 1.0000\n",
            "Epoch 272/300\n",
            "14/14 [==============================] - 5s 333ms/step - loss: 2.9681e-06 - acc: 1.0000 - val_loss: 8.8111e-06 - val_acc: 1.0000\n",
            "Epoch 273/300\n",
            "14/14 [==============================] - 5s 333ms/step - loss: 3.1476e-06 - acc: 1.0000 - val_loss: 8.4793e-06 - val_acc: 1.0000\n",
            "Epoch 274/300\n",
            "14/14 [==============================] - 5s 333ms/step - loss: 2.9899e-06 - acc: 1.0000 - val_loss: 8.2814e-06 - val_acc: 1.0000\n",
            "Epoch 275/300\n",
            "14/14 [==============================] - 5s 333ms/step - loss: 3.2727e-06 - acc: 1.0000 - val_loss: 8.0888e-06 - val_acc: 1.0000\n",
            "Epoch 276/300\n",
            "14/14 [==============================] - 5s 333ms/step - loss: 2.3911e-06 - acc: 1.0000 - val_loss: 8.0330e-06 - val_acc: 1.0000\n",
            "Epoch 277/300\n",
            "14/14 [==============================] - 5s 333ms/step - loss: 2.9089e-06 - acc: 1.0000 - val_loss: 7.9942e-06 - val_acc: 1.0000\n",
            "Epoch 278/300\n",
            "14/14 [==============================] - 5s 333ms/step - loss: 2.5205e-06 - acc: 1.0000 - val_loss: 7.9684e-06 - val_acc: 1.0000\n",
            "Epoch 279/300\n",
            "14/14 [==============================] - 5s 333ms/step - loss: 2.7313e-06 - acc: 1.0000 - val_loss: 7.9372e-06 - val_acc: 1.0000\n",
            "Epoch 280/300\n",
            "14/14 [==============================] - 5s 333ms/step - loss: 2.9300e-06 - acc: 1.0000 - val_loss: 7.9537e-06 - val_acc: 1.0000\n",
            "Epoch 281/300\n",
            "14/14 [==============================] - 5s 333ms/step - loss: 2.3649e-06 - acc: 1.0000 - val_loss: 7.8931e-06 - val_acc: 1.0000\n",
            "Epoch 282/300\n",
            "14/14 [==============================] - 5s 333ms/step - loss: 3.0926e-06 - acc: 1.0000 - val_loss: 7.8724e-06 - val_acc: 1.0000\n",
            "Epoch 283/300\n",
            "14/14 [==============================] - 5s 333ms/step - loss: 3.1117e-06 - acc: 1.0000 - val_loss: 7.8372e-06 - val_acc: 1.0000\n",
            "Epoch 284/300\n",
            "14/14 [==============================] - 5s 333ms/step - loss: 2.9972e-06 - acc: 1.0000 - val_loss: 7.8903e-06 - val_acc: 1.0000\n",
            "Epoch 285/300\n",
            "14/14 [==============================] - 5s 333ms/step - loss: 3.5245e-06 - acc: 1.0000 - val_loss: 7.8312e-06 - val_acc: 1.0000\n",
            "Epoch 286/300\n",
            "14/14 [==============================] - 5s 333ms/step - loss: 3.0151e-06 - acc: 1.0000 - val_loss: 7.5674e-06 - val_acc: 1.0000\n",
            "Epoch 287/300\n",
            "14/14 [==============================] - 5s 333ms/step - loss: 2.6017e-06 - acc: 1.0000 - val_loss: 7.5015e-06 - val_acc: 1.0000\n",
            "Epoch 288/300\n",
            "14/14 [==============================] - 5s 333ms/step - loss: 2.8451e-06 - acc: 1.0000 - val_loss: 7.4824e-06 - val_acc: 1.0000\n",
            "Epoch 289/300\n",
            "14/14 [==============================] - 5s 333ms/step - loss: 3.2859e-06 - acc: 1.0000 - val_loss: 7.5355e-06 - val_acc: 1.0000\n",
            "Epoch 290/300\n",
            "14/14 [==============================] - 5s 333ms/step - loss: 2.4411e-06 - acc: 1.0000 - val_loss: 7.5321e-06 - val_acc: 1.0000\n",
            "Epoch 291/300\n",
            "14/14 [==============================] - 5s 333ms/step - loss: 2.9138e-06 - acc: 1.0000 - val_loss: 7.4881e-06 - val_acc: 1.0000\n",
            "Epoch 292/300\n",
            "14/14 [==============================] - 5s 333ms/step - loss: 2.2897e-06 - acc: 1.0000 - val_loss: 7.3465e-06 - val_acc: 1.0000\n",
            "Epoch 293/300\n",
            "14/14 [==============================] - 5s 333ms/step - loss: 2.8380e-06 - acc: 1.0000 - val_loss: 7.2864e-06 - val_acc: 1.0000\n",
            "Epoch 294/300\n",
            "14/14 [==============================] - 5s 333ms/step - loss: 2.8010e-06 - acc: 1.0000 - val_loss: 7.2171e-06 - val_acc: 1.0000\n",
            "Epoch 295/300\n",
            "14/14 [==============================] - 5s 333ms/step - loss: 2.3306e-06 - acc: 1.0000 - val_loss: 7.2186e-06 - val_acc: 1.0000\n",
            "Epoch 296/300\n",
            "14/14 [==============================] - 5s 333ms/step - loss: 2.1902e-06 - acc: 1.0000 - val_loss: 7.2254e-06 - val_acc: 1.0000\n",
            "Epoch 297/300\n",
            "14/14 [==============================] - 5s 333ms/step - loss: 2.3717e-06 - acc: 1.0000 - val_loss: 7.2095e-06 - val_acc: 1.0000\n",
            "Epoch 298/300\n",
            "14/14 [==============================] - 5s 333ms/step - loss: 2.4787e-06 - acc: 1.0000 - val_loss: 7.1967e-06 - val_acc: 1.0000\n",
            "Epoch 299/300\n",
            "14/14 [==============================] - 5s 333ms/step - loss: 2.4365e-06 - acc: 1.0000 - val_loss: 7.2561e-06 - val_acc: 1.0000\n",
            "Epoch 300/300\n",
            "14/14 [==============================] - 5s 332ms/step - loss: 2.6076e-06 - acc: 1.0000 - val_loss: 7.1788e-06 - val_acc: 1.0000\n"
          ]
        }
      ]
    },
    {
      "cell_type": "code",
      "metadata": {
        "id": "Q_yfaEu307Rd",
        "outputId": "17393079-d0a4-4476-f11e-23e9f0f8429d"
      },
      "source": [
        "plot_acc_graph(melspec_history)"
      ],
      "execution_count": null,
      "outputs": [
        {
          "data": {
            "image/png": "[encoded data removed]",
            "text/plain": [
              "<Figure size 432x288 with 1 Axes>"
            ]
          },
          "metadata": {
            "needs_background": "light"
          },
          "output_type": "display_data"
        }
      ]
    },
    {
      "cell_type": "code",
      "metadata": {
        "id": "6N-nJCtC07Re",
        "outputId": "9bf1509d-1db6-4a5b-dc76-dfc2e0ea874c"
      },
      "source": [
        "plot_loss_graph(melspec_history)"
      ],
      "execution_count": null,
      "outputs": [
        {
          "data": {
            "image/png": "[encoded data removed]",
            "text/plain": [
              "<Figure size 432x288 with 1 Axes>"
            ]
          },
          "metadata": {
            "needs_background": "light"
          },
          "output_type": "display_data"
        }
      ]
    },
    {
      "cell_type": "code",
      "metadata": {
        "id": "3ricXJzi07Re",
        "outputId": "b529c4ca-5fce-4649-becd-b96e097db010"
      },
      "source": [
        "model_melspec.evaluate(test_data_melspec, test_inst_cat)"
      ],
      "execution_count": null,
      "outputs": [
        {
          "name": "stdout",
          "output_type": "stream",
          "text": [
            "10/10 [==============================] - 1s 48ms/step - loss: 0.0908 - acc: 0.9600\n"
          ]
        },
        {
          "data": {
            "text/plain": [
              "[0.09080901741981506, 0.9599999785423279]"
            ]
          },
          "execution_count": 46,
          "metadata": {},
          "output_type": "execute_result"
        }
      ]
    },
    {
      "cell_type": "code",
      "metadata": {
        "id": "OEO1qpvK07Re",
        "outputId": "1324185d-d12c-44e7-eaf0-50919c319f36"
      },
      "source": [
        "y_pred_melspec = np.around(model_melspec.predict(test_data_melspec))\n",
        "\n",
        "print(metrics.classification_report(test_inst_cat, y_pred_melspec, target_names=['Normal', 'Fault']))"
      ],
      "execution_count": null,
      "outputs": [
        {
          "name": "stdout",
          "output_type": "stream",
          "text": [
            "              precision    recall  f1-score   support\n",
            "\n",
            "      Normal       0.91      1.00      0.95       150\n",
            "       Fault       1.00      0.93      0.96       150\n",
            "\n",
            "   micro avg       0.95      0.96      0.96       300\n",
            "   macro avg       0.95      0.96      0.96       300\n",
            "weighted avg       0.95      0.96      0.96       300\n",
            " samples avg       0.96      0.96      0.96       300\n",
            "\n"
          ]
        }
      ]
    },
    {
      "cell_type": "code",
      "metadata": {
        "id": "nuBUy9bR07Re",
        "outputId": "a3975d8e-8b81-4061-bbed-7a8350b5c500"
      },
      "source": [
        "pred_y_melspec = []\n",
        "for i in y_pred_melspec:\n",
        "    pred_y_melspec.append(np.argmax(i))\n",
        "    \n",
        "print(pred_y_melspec)"
      ],
      "execution_count": null,
      "outputs": [
        {
          "name": "stdout",
          "output_type": "stream",
          "text": [
            "[0, 0, 0, 0, 0, 0, 0, 0, 0, 0, 0, 0, 0, 0, 0, 0, 0, 0, 0, 0, 0, 0, 0, 0, 0, 0, 0, 0, 0, 0, 0, 0, 0, 0, 0, 0, 0, 0, 0, 0, 0, 0, 0, 0, 0, 0, 0, 0, 0, 0, 0, 0, 0, 0, 0, 0, 0, 0, 0, 0, 0, 0, 0, 0, 0, 0, 0, 0, 0, 0, 0, 0, 0, 0, 0, 0, 0, 0, 0, 0, 0, 0, 0, 0, 0, 0, 0, 0, 0, 0, 0, 0, 0, 0, 0, 0, 0, 0, 0, 0, 0, 0, 0, 0, 0, 0, 0, 0, 0, 0, 0, 0, 0, 0, 0, 0, 0, 0, 0, 0, 0, 0, 0, 0, 0, 0, 0, 0, 0, 0, 0, 0, 0, 0, 0, 0, 0, 0, 0, 0, 0, 0, 0, 0, 0, 0, 0, 0, 0, 0, 1, 0, 1, 1, 1, 1, 1, 1, 1, 1, 1, 1, 1, 0, 0, 0, 0, 1, 1, 1, 1, 1, 1, 0, 0, 1, 0, 1, 1, 1, 1, 0, 1, 1, 1, 1, 1, 1, 1, 1, 1, 1, 1, 1, 1, 1, 1, 0, 1, 1, 1, 1, 0, 1, 1, 1, 1, 1, 1, 1, 1, 1, 1, 1, 1, 1, 1, 1, 1, 1, 1, 1, 1, 1, 1, 1, 1, 1, 1, 1, 1, 0, 1, 1, 0, 1, 1, 1, 1, 1, 1, 1, 1, 1, 1, 1, 1, 1, 1, 1, 1, 1, 1, 1, 1, 1, 1, 1, 1, 1, 1, 1, 1, 1, 1, 1, 1, 1, 0, 1, 1, 1, 1, 1, 1, 1, 1, 1, 1, 1, 1, 1, 1, 1, 1, 1, 1, 1, 1, 1, 1, 1, 1, 1, 0, 1, 1, 1, 1, 1]\n"
          ]
        }
      ]
    },
    {
      "cell_type": "code",
      "metadata": {
        "id": "XwElqGAS07Re",
        "outputId": "456cab24-8940-4f96-a9b3-7658514ad5c2"
      },
      "source": [
        "c_mat_melspec = confusion_matrix(test_label, pred_y_melspec)\n",
        "c_mat_melspec = c_mat_melspec / c_mat_melspec.astype(np.float).sum(axis=1)\n",
        "disp_melspec = ConfusionMatrixDisplay(confusion_matrix=c_mat_melspec, display_labels=['Normal', 'Fault'])\n",
        "disp_melspec.plot()\n",
        "plt.show()"
      ],
      "execution_count": null,
      "outputs": [
        {
          "name": "stderr",
          "output_type": "stream",
          "text": [
            "C:\\Users\\CVLAB308\\AppData\\Local\\Temp/ipykernel_2068/3062711663.py:2: DeprecationWarning: `np.float` is a deprecated alias for the builtin `float`. To silence this warning, use `float` by itself. Doing this will not modify any behavior and is safe. If you specifically wanted the numpy scalar type, use `np.float64` here.\n",
            "Deprecated in NumPy 1.20; for more details and guidance: https://numpy.org/devdocs/release/1.20.0-notes.html#deprecations\n",
            "  c_mat_melspec = c_mat_melspec / c_mat_melspec.astype(np.float).sum(axis=1)\n"
          ]
        },
        {
          "data": {
            "image/png": "[encoded data removed]",
            "text/plain": [
              "<Figure size 432x288 with 2 Axes>"
            ]
          },
          "metadata": {
            "needs_background": "light"
          },
          "output_type": "display_data"
        }
      ]
    },
    {
      "cell_type": "code",
      "metadata": {
        "id": "WxLCm-EE07Re"
      },
      "source": [
        ""
      ],
      "execution_count": null,
      "outputs": []
    }
  ]
}